{
  "nbformat": 4,
  "nbformat_minor": 0,
  "metadata": {
    "colab": {
      "name": "Copy of Chuviettayknc.ipynb",
      "provenance": [],
      "authorship_tag": "ABX9TyPOMr/XUoBxECxWYSDoe/mO",
      "include_colab_link": true
    },
    "kernelspec": {
      "name": "python3",
      "display_name": "Python 3"
    },
    "accelerator": "GPU"
  },
  "cells": [
    {
      "cell_type": "markdown",
      "metadata": {
        "id": "view-in-github",
        "colab_type": "text"
      },
      "source": [
        "<a href=\"https://colab.research.google.com/github/datdinhstore99/abc/blob/master/Copy_of_Chuviettayknc.ipynb\" target=\"_parent\"><img src=\"https://colab.research.google.com/assets/colab-badge.svg\" alt=\"Open In Colab\"/></a>"
      ]
    },
    {
      "cell_type": "code",
      "metadata": {
        "id": "Hn3lErVrZH7-",
        "colab_type": "code",
        "outputId": "a756bfb2-fdae-454b-cef5-d8e3e5c3e9c8",
        "colab": {
          "base_uri": "https://localhost:8080/",
          "height": 122
        }
      },
      "source": [
        "from google.colab import drive\n",
        "drive.mount(\"/content/drive\")"
      ],
      "execution_count": 1,
      "outputs": [
        {
          "output_type": "stream",
          "text": [
            "Go to this URL in a browser: https://accounts.google.com/o/oauth2/auth?client_id=947318989803-6bn6qk8qdgf4n4g3pfee6491hc0brc4i.apps.googleusercontent.com&redirect_uri=urn%3aietf%3awg%3aoauth%3a2.0%3aoob&response_type=code&scope=email%20https%3a%2f%2fwww.googleapis.com%2fauth%2fdocs.test%20https%3a%2f%2fwww.googleapis.com%2fauth%2fdrive%20https%3a%2f%2fwww.googleapis.com%2fauth%2fdrive.photos.readonly%20https%3a%2f%2fwww.googleapis.com%2fauth%2fpeopleapi.readonly\n",
            "\n",
            "Enter your authorization code:\n",
            "··········\n",
            "Mounted at /content/drive\n"
          ],
          "name": "stdout"
        }
      ]
    },
    {
      "cell_type": "code",
      "metadata": {
        "id": "zlV49wRwJkzb",
        "colab_type": "code",
        "colab": {}
      },
      "source": [
        "#pip3 install tensorflow"
      ],
      "execution_count": 0,
      "outputs": []
    },
    {
      "cell_type": "code",
      "metadata": {
        "id": "3rfqaOrpaBr7",
        "colab_type": "code",
        "colab": {}
      },
      "source": [
        "link = \"https://storage.googleapis.com/kaggle-data-sets/9726/17999/bundle/archive.zip?GoogleAccessId=web-data@kaggle-161607.iam.gserviceaccount.com&Expires=1590249980&Signature=KjnJ07tcDM80KQucEsZrHyZ2Ff8KtRFxA8GTLFuuwHLcNpS0xoUE9nBDfGXgEhSVwcPzk7gLCis4tOkBeM0zy5oDJrpd%2B3yCGC5T%2Bmnus1aisJZ0njAOxg0XCqGI1%2B7kepGuv3UgYO9bYUtwvMPhZeGDloM97BAMjrcjVAGYsLE265kqG7VmQVRe9AVpPuTNgk5iTpQrBq5O3c8qApnngBqkd724tAlCmwdS%2BnUGcr9FM3iS3Tyh%2FsmMUxLZiuA7X0a%2FZwwNDYdHJEZKvazjvGh3LeRVuwp17bMxqHayFx8UHXWF23xDcXVJCgbAL23yg%2BOgpelGHlzXRTpZvk%2B9Pg%3D%3D&response-content-disposition=attachment%3B+filename%3Daz-handwritten-alphabets-in-csv-format.zip\""
      ],
      "execution_count": 0,
      "outputs": []
    },
    {
      "cell_type": "code",
      "metadata": {
        "id": "ccTyDMHRZhSZ",
        "colab_type": "code",
        "outputId": "52f5c9a0-1262-45ca-9bf1-a39497738749",
        "colab": {
          "base_uri": "https://localhost:8080/",
          "height": 170
        }
      },
      "source": [
        "!pip install wget\n",
        "\n"
      ],
      "execution_count": 5,
      "outputs": [
        {
          "output_type": "stream",
          "text": [
            "Collecting wget\n",
            "  Downloading https://files.pythonhosted.org/packages/47/6a/62e288da7bcda82b935ff0c6cfe542970f04e29c756b0e147251b2fb251f/wget-3.2.zip\n",
            "Building wheels for collected packages: wget\n",
            "  Building wheel for wget (setup.py) ... \u001b[?25l\u001b[?25hdone\n",
            "  Created wheel for wget: filename=wget-3.2-cp36-none-any.whl size=9682 sha256=4ddc7bcd88220fa0391f0bd03dd65ae1ad1cbfe9cd3be74f26d4ee7dc2f23d89\n",
            "  Stored in directory: /root/.cache/pip/wheels/40/15/30/7d8f7cea2902b4db79e3fea550d7d7b85ecb27ef992b618f3f\n",
            "Successfully built wget\n",
            "Installing collected packages: wget\n",
            "Successfully installed wget-3.2\n"
          ],
          "name": "stdout"
        }
      ]
    },
    {
      "cell_type": "code",
      "metadata": {
        "id": "MRRw1XdLiSva",
        "colab_type": "code",
        "outputId": "25de9e86-37a6-4fba-da19-ee46ce22501b",
        "colab": {
          "base_uri": "https://localhost:8080/",
          "height": 34
        }
      },
      "source": [
        "from google.colab import drive\n",
        "drive.mount('/content/drive')"
      ],
      "execution_count": 6,
      "outputs": [
        {
          "output_type": "stream",
          "text": [
            "Drive already mounted at /content/drive; to attempt to forcibly remount, call drive.mount(\"/content/drive\", force_remount=True).\n"
          ],
          "name": "stdout"
        }
      ]
    },
    {
      "cell_type": "code",
      "metadata": {
        "id": "aXG1x625ZtQI",
        "colab_type": "code",
        "outputId": "a9af7a57-80d9-41e2-f8a8-6cbfb4d2f0b5",
        "colab": {
          "base_uri": "https://localhost:8080/",
          "height": 34
        }
      },
      "source": [
        "import wget\n",
        "wget.download(link)"
      ],
      "execution_count": 9,
      "outputs": [
        {
          "output_type": "execute_result",
          "data": {
            "text/plain": [
              "'az-handwritten-alphabets-in-csv-format.zip'"
            ]
          },
          "metadata": {
            "tags": []
          },
          "execution_count": 9
        }
      ]
    },
    {
      "cell_type": "code",
      "metadata": {
        "id": "PoyhZAGYiUXr",
        "colab_type": "code",
        "colab": {}
      },
      "source": [
        ""
      ],
      "execution_count": 0,
      "outputs": []
    },
    {
      "cell_type": "code",
      "metadata": {
        "id": "o6OvHlYIZ09z",
        "colab_type": "code",
        "colab": {}
      },
      "source": [
        "import numpy as np \n",
        "import matplotlib.pyplot as plt\n",
        "from sklearn.cluster import KMeans\n",
        "from sklearn.neighbors import NearestNeighbors\n",
        "from sklearn.preprocessing import normalize"
      ],
      "execution_count": 0,
      "outputs": []
    },
    {
      "cell_type": "code",
      "metadata": {
        "id": "8YAWJQecanfu",
        "colab_type": "code",
        "colab": {}
      },
      "source": [
        "data =\"./\" \n",
        "!unzip -q az-handwritten-alphabets-in-csv-format.zip -d $data"
      ],
      "execution_count": 0,
      "outputs": []
    },
    {
      "cell_type": "code",
      "metadata": {
        "id": "SOeP-EHacslz",
        "colab_type": "code",
        "colab": {}
      },
      "source": [
        "import numpy as np \n",
        "import matplotlib.pyplot as plt\n",
        "from sklearn.cluster import KMeans\n",
        "from sklearn.neighbors import NearestNeighbors\n",
        "from sklearn.preprocessing import normalize\n",
        "\n",
        "import csv"
      ],
      "execution_count": 0,
      "outputs": []
    },
    {
      "cell_type": "markdown",
      "metadata": {
        "id": "LiqTsIYmN8RD",
        "colab_type": "text"
      },
      "source": [
        "Đọc dữ liệu chữ cái viết tay"
      ]
    },
    {
      "cell_type": "code",
      "metadata": {
        "id": "e0W4lzVhbrbx",
        "colab_type": "code",
        "colab": {}
      },
      "source": [
        "train_link = data + \"A_Z Handwritten Data.csv\"\n",
        "import pickle\n",
        "with open(train_link, mode=\"r\") as csv_file:\n",
        "    result = csv.reader(csv_file)\n",
        "    rows = []\n",
        "    \n",
        "    # đọc từng dòng của file và thêm vào list rows, mỗi phần tử của list là một dòng\n",
        "    for row in result:\n",
        "        rows.append(row)"
      ],
      "execution_count": 0,
      "outputs": []
    },
    {
      "cell_type": "code",
      "metadata": {
        "id": "qMgudwklcqjK",
        "colab_type": "code",
        "outputId": "7a919766-51d0-44a9-b970-090dbbcee344",
        "colab": {
          "base_uri": "https://localhost:8080/",
          "height": 282
        }
      },
      "source": [
        "letter = rows[30000]\n",
        "x = np.array([int(j) for j in letter[1:]])\n",
        "x = x.reshape(28,28)\n",
        "plt.imshow(x)"
      ],
      "execution_count": 14,
      "outputs": [
        {
          "output_type": "execute_result",
          "data": {
            "text/plain": [
              "<matplotlib.image.AxesImage at 0x7fb260d96780>"
            ]
          },
          "metadata": {
            "tags": []
          },
          "execution_count": 14
        },
        {
          "output_type": "display_data",
          "data": {
            "image/png": "[encoded data removed]",
            "text/plain": [
              "<Figure size 432x288 with 1 Axes>"
            ]
          },
          "metadata": {
            "tags": [],
            "needs_background": "light"
          }
        }
      ]
    },
    {
      "cell_type": "markdown",
      "metadata": {
        "id": "Ma5R-uXeOBQ2",
        "colab_type": "text"
      },
      "source": [
        "Đọc và gán nhãn các dữ liệu chữ cái a,b,c,d"
      ]
    },
    {
      "cell_type": "code",
      "metadata": {
        "id": "ovTSkrppdnFw",
        "colab_type": "code",
        "colab": {}
      },
      "source": [
        "train_data = []\n",
        "train_label = []\n",
        "\n",
        "for letter in rows :\n",
        "  if letter[0] == '0' or (letter[0] == '1') or (letter[0] == '2') or (letter[0] == '3'):\n",
        "      x = np.array([int(j) for j in letter[1:]])\n",
        "      train_data.append(x)\n",
        "      train_label.append(int(letter[0]))\n",
        "  else:\n",
        "      break"
      ],
      "execution_count": 0,
      "outputs": []
    },
    {
      "cell_type": "markdown",
      "metadata": {
        "id": "jm0nnpvmOIfQ",
        "colab_type": "text"
      },
      "source": [
        "Đảo thứ tự dữ liệu nhập vào"
      ]
    },
    {
      "cell_type": "code",
      "metadata": {
        "id": "GeDEtUcceAc3",
        "colab_type": "code",
        "colab": {}
      },
      "source": [
        "import random\n",
        "\n",
        "shuffle_order = list(range(56081))\n",
        "random.shuffle(shuffle_order)\n",
        "\n",
        "train_data = np.array(train_data)\n",
        "train_label = np.array(train_label)\n",
        "\n",
        "train_data = train_data[shuffle_order]\n",
        "train_label = train_label[shuffle_order]"
      ],
      "execution_count": 0,
      "outputs": []
    },
    {
      "cell_type": "code",
      "metadata": {
        "id": "nMHLbIK5eKUA",
        "colab_type": "code",
        "colab": {}
      },
      "source": [
        "# This function visualizes filters in matrix A. Each column of A is a\n",
        "# filter. We will reshape each column into a square image and visualizes\n",
        "# on each cell of the visualization panel.\n",
        "# All other parameters are optional, usually you do not need to worry\n",
        "# about it.\n",
        "# opt_normalize: whether we need to normalize the filter so that all of\n",
        "# them can have similar contrast. Default value is true.\n",
        "# opt_graycolor: whether we use gray as the heat map. Default is true.\n",
        "# opt_colmajor: you can switch convention to row major for A. In that\n",
        "# case, each row of A is a filter. Default value is false.\n",
        "# source: https://github.com/tsaith/ufldl_tutorial\n",
        "\n",
        "def display_network(A, m = -1, n = -1):\n",
        "    opt_normalize = True\n",
        "    opt_graycolor = True\n",
        "\n",
        "    # Rescale\n",
        "    A = A - np.average(A)\n",
        "\n",
        "    # Compute rows & cols\n",
        "    (row, col) = A.shape\n",
        "    sz = int(np.ceil(np.sqrt(row)))\n",
        "    buf = 1\n",
        "    if m < 0 or n < 0:\n",
        "        n = np.ceil(np.sqrt(col))\n",
        "        m = np.ceil(col / n)\n",
        "        \n",
        "\n",
        "    image = np.ones(shape=(buf + m * (sz + buf), buf + n * (sz + buf)))\n",
        "\n",
        "    if not opt_graycolor:\n",
        "        image *= 0.1\n",
        "\n",
        "    k = 0\n",
        "\n",
        "    for i in range(int(m)):\n",
        "        for j in range(int(n)):\n",
        "            if k >= col:\n",
        "                continue\n",
        "\n",
        "            clim = np.max(np.abs(A[:, k]))\n",
        "\n",
        "            if opt_normalize:\n",
        "                image[buf + i * (sz + buf):buf + i * (sz + buf) + sz, buf + j * (sz + buf):buf + j * (sz + buf) + sz] = \\\n",
        "                    A[:, k].reshape(sz, sz) / clim\n",
        "            else:\n",
        "                image[buf + i * (sz + buf):buf + i * (sz + buf) + sz, buf + j * (sz + buf):buf + j * (sz + buf) + sz] = \\\n",
        "                    A[:, k].reshape(sz, sz) / np.max(np.abs(A))\n",
        "            k += 1\n",
        "\n",
        "    return image\n",
        "\n",
        "def display_color_network(A):\n",
        "    \"\"\"\n",
        "    # display receptive field(s) or basis vector(s) for image patches\n",
        "    #\n",
        "    # A         the basis, with patches as column vectors\n",
        "    # In case the midpoint is not set at 0, we shift it dynamically\n",
        "    :param A:\n",
        "    :param file:\n",
        "    :return:\n",
        "    \"\"\"\n",
        "    if np.min(A) >= 0:\n",
        "        A = A - np.mean(A)\n",
        "\n",
        "    cols = np.round(np.sqrt(A.shape[1]))\n",
        "\n",
        "    channel_size = A.shape[0] / 3\n",
        "    dim = np.sqrt(channel_size)\n",
        "    dimp = dim + 1\n",
        "    rows = np.ceil(A.shape[1] / cols)\n",
        "\n",
        "    B = A[0:channel_size, :]\n",
        "    C = A[channel_size:2 * channel_size, :]\n",
        "    D = A[2 * channel_size:3 * channel_size, :]\n",
        "\n",
        "    B = B / np.max(np.abs(B))\n",
        "    C = C / np.max(np.abs(C))\n",
        "    D = D / np.max(np.abs(D))\n",
        "\n",
        "    # Initialization of the image\n",
        "    image = np.ones(shape=(dim * rows + rows - 1, dim * cols + cols - 1, 3))\n",
        "\n",
        "    for i in range(int(rows)):\n",
        "        for j in range(int(cols)):\n",
        "            # This sets the patch\n",
        "            image[i * dimp:i * dimp + dim, j * dimp:j * dimp + dim, 0] = B[:, i * cols + j].reshape(dim, dim)\n",
        "            image[i * dimp:i * dimp + dim, j * dimp:j * dimp + dim, 1] = C[:, i * cols + j].reshape(dim, dim)\n",
        "            image[i * dimp:i * dimp + dim, j * dimp:j * dimp + dim, 2] = D[:, i * cols + j].reshape(dim, dim)\n",
        "\n",
        "    image = (image + 1) / 2\n",
        "\n",
        "    #PIL.Image.fromarray(np.uint8(image * 255), 'RGB').save(filename)\n",
        "\n",
        "    return image"
      ],
      "execution_count": 0,
      "outputs": []
    },
    {
      "cell_type": "code",
      "metadata": {
        "id": "bbds-pNzf2LN",
        "colab_type": "code",
        "colab": {}
      },
      "source": [
        "X = train_data\n",
        "X0 = np.asarray(X)[:1000,:]/256.0\n",
        "X = X0\n",
        "\n",
        "K = 4\n",
        "kmeans = KMeans(n_clusters=K).fit(X)\n",
        "\n",
        "pred_label = kmeans.predict(X)"
      ],
      "execution_count": 0,
      "outputs": []
    },
    {
      "cell_type": "code",
      "metadata": {
        "id": "eN5VLypI2vo1",
        "colab_type": "code",
        "colab": {
          "base_uri": "https://localhost:8080/",
          "height": 303
        },
        "outputId": "20bd8d38-c22d-4007-bd5e-9447c6e56338"
      },
      "source": [
        "print(type(kmeans.cluster_centers_.T))\n",
        "print(kmeans.cluster_centers_.T.shape)\n",
        "A = display_network(kmeans.cluster_centers_.T, K, 1)\n",
        "\n",
        "f1 = plt.imshow(A, interpolation='nearest', cmap = \"jet\")\n",
        "f1.axes.get_xaxis().set_visible(False)\n",
        "f1.axes.get_yaxis().set_visible(False)\n",
        "plt.show()\n",
        "# plt.savefig('a1.png', bbox_inches='tight')\n",
        "\n",
        "\n",
        "# a colormap and a normalization instance\n",
        "cmap = plt.cm.jet\n",
        "norm = plt.Normalize(vmin=A.min(), vmax=A.max())\n",
        "\n",
        "# map the normalized data to colors\n",
        "# image is now RGBA (512x512x4) \n",
        "image = cmap(norm(A))\n",
        "\n",
        "import imageio\n",
        "imageio.imwrite('aa.png', image)"
      ],
      "execution_count": 23,
      "outputs": [
        {
          "output_type": "stream",
          "text": [
            "<class 'numpy.ndarray'>\n",
            "(784, 4)\n"
          ],
          "name": "stdout"
        },
        {
          "output_type": "display_data",
          "data": {
            "image/png": "[encoded data removed]",
            "text/plain": [
              "<Figure size 432x288 with 1 Axes>"
            ]
          },
          "metadata": {
            "tags": [],
            "needs_background": "light"
          }
        },
        {
          "output_type": "stream",
          "text": [
            "WARNING:root:Lossy conversion from float64 to uint8. Range [0, 1]. Convert image to uint8 prior to saving to suppress this warning.\n"
          ],
          "name": "stderr"
        }
      ]
    },
    {
      "cell_type": "code",
      "metadata": {
        "id": "Jd3MlrRv2vg3",
        "colab_type": "code",
        "colab": {
          "base_uri": "https://localhost:8080/",
          "height": 68
        },
        "outputId": "3207a05c-0aa8-4249-a17b-e73f65b3bc09"
      },
      "source": [
        "print(type(pred_label))\n",
        "print(pred_label.shape)\n",
        "print(type(X0))"
      ],
      "execution_count": 20,
      "outputs": [
        {
          "output_type": "stream",
          "text": [
            "<class 'numpy.ndarray'>\n",
            "(1000,)\n",
            "<class 'numpy.ndarray'>\n"
          ],
          "name": "stdout"
        }
      ]
    },
    {
      "cell_type": "code",
      "metadata": {
        "id": "0vz6VEWB2vYw",
        "colab_type": "code",
        "colab": {}
      },
      "source": [
        "N0 = 20;\n",
        "X1 = np.zeros((N0*K, 784))\n",
        "X2 = np.zeros((N0*K, 784))\n",
        "\n",
        "for k in range(K):\n",
        "    Xk = X0[pred_label == k, :]\n",
        "\n",
        "    center_k = [kmeans.cluster_centers_[k]]\n",
        "    neigh = NearestNeighbors(N0).fit(Xk)\n",
        "    dist, nearest_id  = neigh.kneighbors(center_k, N0)\n",
        "    \n",
        "    X1[N0*k: N0*k + N0,:] = Xk[nearest_id, :]\n",
        "    X2[N0*k: N0*k + N0,:] = Xk[:N0, :]"
      ],
      "execution_count": 0,
      "outputs": []
    },
    {
      "cell_type": "code",
      "metadata": {
        "id": "yPm90prc2vPt",
        "colab_type": "code",
        "colab": {
          "base_uri": "https://localhost:8080/",
          "height": 98
        },
        "outputId": "9d91c9f1-9ab8-4bdc-f95b-b4c4bf25e81c"
      },
      "source": [
        "plt.axis('off')\n",
        "A = display_network(X2.T, K, N0)\n",
        "f2 = plt.imshow(A, interpolation='nearest' )\n",
        "plt.gray()\n",
        "plt.show()"
      ],
      "execution_count": 22,
      "outputs": [
        {
          "output_type": "display_data",
          "data": {
            "image/png": "[encoded data removed]",
            "text/plain": [
              "<Figure size 432x288 with 1 Axes>"
            ]
          },
          "metadata": {
            "tags": [],
            "needs_background": "light"
          }
        }
      ]
    },
    {
      "cell_type": "code",
      "metadata": {
        "id": "hb3zflfl2vED",
        "colab_type": "code",
        "colab": {}
      },
      "source": [
        ""
      ],
      "execution_count": 0,
      "outputs": []
    },
    {
      "cell_type": "markdown",
      "metadata": {
        "id": "GDfcibSxOS9J",
        "colab_type": "text"
      },
      "source": [
        "Xậy dựng hàm K-means clustering"
      ]
    },
    {
      "cell_type": "code",
      "metadata": {
        "id": "gRLchkR3oO1i",
        "colab_type": "code",
        "colab": {}
      },
      "source": [
        "def display_digit(digit, labeled = True, title = \"\"):\n",
        "    \"\"\" \n",
        "    graphically displays a 784x1 vector, representing a digit\n",
        "    \"\"\"\n",
        "    if labeled:\n",
        "        digit = digit[1]\n",
        "    image = digit\n",
        "    plt.figure()\n",
        "    fig = plt.imshow(image.reshape(28,28))\n",
        "    fig.set_cmap('gray_r')\n",
        "    fig.axes.get_xaxis().set_visible(False)\n",
        "    fig.axes.get_yaxis().set_visible(False)\n",
        "    if title != \"\":\n",
        "        plt.title(\"Inferred label: \" + str(title))"
      ],
      "execution_count": 0,
      "outputs": []
    },
    {
      "cell_type": "code",
      "metadata": {
        "id": "0BhnMZ07Ptfk",
        "colab_type": "code",
        "colab": {}
      },
      "source": [
        "#thuat toan \n",
        "#khoi tao cac centers ban dau\n",
        "def init_centroids(labelled_data,k):\n",
        "  # randomly pick some k centers from the data as starting values for centroids\n",
        "  return map(lambda x: x[1],random.sample(labelled_data,k))\n",
        "\n",
        "def sum_cluster(labelled_cluster):\n",
        "  # assumes len(cluster)>0\n",
        "  sum_ = labelled_cluster[0][1].copy()\n",
        "  for (label,vector) in labelled_cluster[1:]:\n",
        "    sum_ += vector\n",
        "  return sum_\n",
        "\n",
        "def mean_cluster(labelled_cluster):\n",
        "  #lay gia tri trung binh cua mot danh sach cac vector,lay tong va sau do chia cho kich thuoc cua cum\n",
        "  sum_of_points = sum_cluster(labelled_cluster)\n",
        "  mean_of_points = sum_of_points * (1.0 / len(labelled_cluster))\n",
        "  return mean_of_points"
      ],
      "execution_count": 0,
      "outputs": []
    },
    {
      "cell_type": "code",
      "metadata": {
        "id": "H1pb2ebTPtV8",
        "colab_type": "code",
        "colab": {}
      },
      "source": [
        "def form_clusters(labelled_data, unlabelled_centroids):\n",
        "    \"\"\"\n",
        "    given some data and centroids for the data, allocate each datapoint\n",
        "    to its closest centroid. This forms clusters.\n",
        "    \"\"\"\n",
        "    # enumerate because centroids are arrays which are unhashable,\n",
        "    centroids_indices = range(len(unlabelled_centroids))\n",
        "    \n",
        "    # initialize an empty list for each centroid. The list will contain\n",
        "    # all the datapoints that are closer to that centroid than to any other.\n",
        "    # That list is the cluster of that centroid.\n",
        "    clusters = {c: [] for c in centroids_indices}\n",
        "    \n",
        "    for (label,Xi) in labelled_data:\n",
        "        # for each datapoint, pick the closest centroid.\n",
        "        smallest_distance = float(\"inf\")\n",
        "        for cj_index in centroids_indices:\n",
        "            cj = unlabelled_centroids[cj_index]\n",
        "            distance = np.linalg.norm(Xi - cj)\n",
        "            if distance < smallest_distance:\n",
        "                closest_centroid_index = cj_index\n",
        "                smallest_distance = distance\n",
        "        # allocate that datapoint to the cluster of that centroid.\n",
        "        clusters[closest_centroid_index].append((label,Xi))\n",
        "    return clusters.values()\n",
        "\n",
        "def move_centroids(labelled_clusters):\n",
        "    \"\"\"\n",
        "    returns a list of centroids corresponding to the clusters.\n",
        "    \"\"\"\n",
        "    new_centroids = []\n",
        "    for cluster in labelled_clusters:\n",
        "        new_centroids.append(mean_cluster(cluster))\n",
        "    return new_centroids\n",
        "\n",
        "def repeat_until_convergence(labelled_data, labelled_clusters, unlabelled_centroids):\n",
        "    \"\"\"\n",
        "    form clusters around centroids, then keep moving the centroids\n",
        "    until the moves are no longer significant, i.e. we've found\n",
        "    the best-fitting centroids for the data.\n",
        "    \"\"\"\n",
        "    previous_max_difference = 0\n",
        "    while True:\n",
        "        unlabelled_old_centroids = unlabelled_centroids\n",
        "        unlabelled_centroids = move_centroids(labelled_clusters)\n",
        "        labelled_clusters = form_clusters(labelled_data, unlabelled_centroids)\n",
        "        # we keep old_clusters and clusters so we can get the maximum difference\n",
        "        # between centroid positions every time. we say the centroids have converged\n",
        "        # when the maximum difference between centroid positions is small.   \n",
        "        differences = map(lambda a, b: np.linalg.norm(a-b),unlabelled_old_centroids,unlabelled_centroids)\n",
        "        max_difference = max(differences)\n",
        "        difference_change = abs((max_difference-previous_max_difference)/np.mean([previous_max_difference,max_difference])) * 100\n",
        "        previous_max_difference = max_difference\n",
        "        # difference change is nan once the list of differences is all zeroes.\n",
        "        if np.isnan(difference_change):\n",
        "            break\n",
        "    return labelled_clusters, unlabelled_centroids"
      ],
      "execution_count": 0,
      "outputs": []
    },
    {
      "cell_type": "code",
      "metadata": {
        "id": "qXueoYEqPtJ7",
        "colab_type": "code",
        "colab": {}
      },
      "source": [
        "def cluster(labelled_data, k):\n",
        "\n",
        "  centroids = init_centroids(labelled_data, k)\n",
        "  clusters = form_clusters(labelled_data,centroids)\n",
        "  final_clusters, final_centroids = repeat_until_convergence(labelled_data,clusters,centroids)\n",
        "  return final_clusters,final_centroids"
      ],
      "execution_count": 0,
      "outputs": []
    },
    {
      "cell_type": "code",
      "metadata": {
        "id": "DjecbJB2Ps94",
        "colab_type": "code",
        "colab": {}
      },
      "source": [
        "def assign_labels_to_centroids(clusters, centroids):\n",
        "    \"\"\"\n",
        "    Assigns a digit label to each cluster.\n",
        "    Cluster is a list of clusters containing labelled datapoints.\n",
        "    NOTE: this function depends on clusters and centroids being in the same order.\n",
        "    \"\"\"\n",
        "    labelled_centroids = []\n",
        "    for i in range(len(clusters)):\n",
        "        labels = map(lambda x: x[0], clusters[i])\n",
        "        # pick the most common label\n",
        "        most_common = max(set(labels), key=labels.count)\n",
        "        centroid = (most_common, centroids[i])\n",
        "        labelled_centroids.append(centroid)\n",
        "    return labelled_centroids"
      ],
      "execution_count": 0,
      "outputs": []
    },
    {
      "cell_type": "code",
      "metadata": {
        "id": "vsv718KBPs09",
        "colab_type": "code",
        "colab": {}
      },
      "source": [
        "def classify_digit(digit, labelled_centroids):\n",
        "    \"\"\"\n",
        "    given an unlabelled digit represented by a vector and a list of\n",
        "    labelled centroids [(label,vector)], determine the closest centroid\n",
        "    and thus classify the digit.\n",
        "    \"\"\"\n",
        "    mindistance = float(\"inf\")\n",
        "    for (label, centroid) in labelled_centroids:\n",
        "        distance = np.linalg.norm(centroid - digit)\n",
        "        if distance < mindistance:\n",
        "            mindistance = distance\n",
        "            closest_centroid_label = label\n",
        "    return closest_centroid_label\n",
        "\n",
        "def get_error_rate(digits,labelled_centroids):\n",
        "    \"\"\"\n",
        "    classifies a list of labelled digits. returns the error rate.\n",
        "    \"\"\"\n",
        "    classified_incorrect = 0\n",
        "    for (label,digit) in digits:\n",
        "        classified_label = classify_digit(digit, labelled_centroids)\n",
        "        if classified_label != label:\n",
        "            classified_incorrect +=1\n",
        "    error_rate = classified_incorrect / float(len(digits))\n",
        "    return error_rate"
      ],
      "execution_count": 0,
      "outputs": []
    },
    {
      "cell_type": "code",
      "metadata": {
        "id": "v3sBzDpSPsqN",
        "colab_type": "code",
        "colab": {}
      },
      "source": [
        "error_rates = {x:None for x in range(5,25)+[100]}\n",
        "for k in range(5,25):\n",
        "  trained_clusters, trained_centroids = cluster(train_data,k)\n",
        "  labelled_centroids = assign_labels_to_centroids(trained_clusters, trained_centroids)\n",
        "  error_rate = get_error_rate(validation,labelled_centroids)\n",
        "  error_rate[k] = error_rate\n",
        "\n",
        "#show the error rates\n",
        "x_axis = sorted(error_rates.keys())\n",
        "y_axis = [error_rates[key] for key in x_axis]\n",
        "plt.figure()\n",
        "plt.title(\"Error Rate by Number of Clusters\")\n",
        "plt.scatter(x_axis,y_axis)\n",
        "plt.xlabel(\"Number of clusters\")\n",
        "plt.ylabel(\"Error Rate\")\n",
        "plt.show()\n"
      ],
      "execution_count": 0,
      "outputs": []
    },
    {
      "cell_type": "code",
      "metadata": {
        "id": "JKUrrmyyv6tB",
        "colab_type": "code",
        "colab": {}
      },
      "source": [
        ""
      ],
      "execution_count": 0,
      "outputs": []
    },
    {
      "cell_type": "code",
      "metadata": {
        "id": "sHewTu2Sv7Gy",
        "colab_type": "code",
        "colab": {}
      },
      "source": [
        ""
      ],
      "execution_count": 0,
      "outputs": []
    }
  ]
}