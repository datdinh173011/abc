{
  "nbformat": 4,
  "nbformat_minor": 0,
  "metadata": {
    "colab": {
      "name": "13-Ex1.ipynb",
      "provenance": [],
      "include_colab_link": true
    },
    "kernelspec": {
      "name": "python3",
      "display_name": "Python 3"
    },
    "accelerator": "GPU"
  },
  "cells": [
    {
      "cell_type": "markdown",
      "metadata": {
        "id": "view-in-github",
        "colab_type": "text"
      },
      "source": [
        "<a href=\"https://colab.research.google.com/github/datdinhstore99/abc/blob/master/phanloaicaumiamai.ipynb\" target=\"_parent\"><img src=\"https://colab.research.google.com/assets/colab-badge.svg\" alt=\"Open In Colab\"/></a>"
      ]
    },
    {
      "cell_type": "code",
      "metadata": {
        "id": "3ff3IYMvA8Sd",
        "colab_type": "code",
        "colab": {
          "base_uri": "https://localhost:8080/",
          "height": 122
        },
        "outputId": "4ba4a5f2-e103-4bb3-b263-8b43d2c61f89"
      },
      "source": [
        "from google.colab import drive\n",
        "drive.mount(\"/content/drive\")"
      ],
      "execution_count": 1,
      "outputs": [
        {
          "output_type": "stream",
          "text": [
            "Go to this URL in a browser: https://accounts.google.com/o/oauth2/auth?client_id=947318989803-6bn6qk8qdgf4n4g3pfee6491hc0brc4i.apps.googleusercontent.com&redirect_uri=urn%3aietf%3awg%3aoauth%3a2.0%3aoob&response_type=code&scope=email%20https%3a%2f%2fwww.googleapis.com%2fauth%2fdocs.test%20https%3a%2f%2fwww.googleapis.com%2fauth%2fdrive%20https%3a%2f%2fwww.googleapis.com%2fauth%2fdrive.photos.readonly%20https%3a%2f%2fwww.googleapis.com%2fauth%2fpeopleapi.readonly\n",
            "\n",
            "Enter your authorization code:\n",
            "··········\n",
            "Mounted at /content/drive\n"
          ],
          "name": "stdout"
        }
      ]
    },
    {
      "cell_type": "markdown",
      "metadata": {
        "id": "ED0bpKA5rITi",
        "colab_type": "text"
      },
      "source": [
        "#### Mục tiêu: Xây dựng mô hình có độ chính xác trên tập validation khoảng 84%"
      ]
    },
    {
      "cell_type": "code",
      "metadata": {
        "id": "Ac8aY72mm-LF",
        "colab_type": "code",
        "colab": {}
      },
      "source": [
        "import json\n",
        "import tensorflow as tf\n",
        "\n",
        "from tensorflow.keras.preprocessing.text import Tokenizer\n",
        "from tensorflow.keras.preprocessing.sequence import pad_sequences"
      ],
      "execution_count": 2,
      "outputs": []
    },
    {
      "cell_type": "code",
      "metadata": {
        "id": "VaZQvC2RoudH",
        "colab_type": "code",
        "colab": {}
      },
      "source": [
        "from tensorflow.keras.models import Sequential\n",
        "from tensorflow.keras.layers import Dense, Embedding"
      ],
      "execution_count": 3,
      "outputs": []
    },
    {
      "cell_type": "code",
      "metadata": {
        "id": "GQ3LmxlVnGGr",
        "colab_type": "code",
        "colab": {}
      },
      "source": [
        "vocab_size = 10000\n",
        "embedding_dim = 16\n",
        "max_length = 100\n",
        "trunc_type='post'\n",
        "padding_type='post'\n",
        "oov_tok = \"<OOV>\"\n",
        "training_size = 20000\n"
      ],
      "execution_count": 5,
      "outputs": []
    },
    {
      "cell_type": "code",
      "metadata": {
        "id": "M3o5hNpNnLSC",
        "colab_type": "code",
        "colab": {
          "base_uri": "https://localhost:8080/",
          "height": 204
        },
        "outputId": "61da508c-debc-4a84-aa85-202b47134c71"
      },
      "source": [
        "!wget --no-check-certificate \\\n",
        "    https://storage.googleapis.com/laurencemoroney-blog.appspot.com/sarcasm.json \\\n",
        "    -O /tmp/sarcasm.json\n"
      ],
      "execution_count": 6,
      "outputs": [
        {
          "output_type": "stream",
          "text": [
            "--2020-07-29 10:04:28--  https://storage.googleapis.com/laurencemoroney-blog.appspot.com/sarcasm.json\n",
            "Resolving storage.googleapis.com (storage.googleapis.com)... 74.125.129.128, 172.217.212.128, 172.217.214.128, ...\n",
            "Connecting to storage.googleapis.com (storage.googleapis.com)|74.125.129.128|:443... connected.\n",
            "HTTP request sent, awaiting response... 200 OK\n",
            "Length: 5643545 (5.4M) [application/json]\n",
            "Saving to: ‘/tmp/sarcasm.json’\n",
            "\n",
            "\r/tmp/sarcasm.json     0%[                    ]       0  --.-KB/s               \r/tmp/sarcasm.json   100%[===================>]   5.38M  --.-KB/s    in 0.05s   \n",
            "\n",
            "2020-07-29 10:04:28 (107 MB/s) - ‘/tmp/sarcasm.json’ saved [5643545/5643545]\n",
            "\n"
          ],
          "name": "stdout"
        }
      ]
    },
    {
      "cell_type": "code",
      "metadata": {
        "id": "5iJW8S0knOwf",
        "colab_type": "code",
        "colab": {}
      },
      "source": [
        "with open(\"/tmp/sarcasm.json\", 'r') as f:\n",
        "    datastore = json.load(f)\n",
        "\n",
        "sentences = []\n",
        "labels = []\n",
        "\n",
        "for item in datastore:\n",
        "    sentences.append(item['headline'])\n",
        "    labels.append(item['is_sarcastic'])\n",
        "\n",
        "\n",
        "import numpy as np\n",
        "labels = np.array(labels)"
      ],
      "execution_count": 7,
      "outputs": []
    },
    {
      "cell_type": "code",
      "metadata": {
        "id": "AEq125sjCBBm",
        "colab_type": "code",
        "colab": {
          "base_uri": "https://localhost:8080/",
          "height": 34
        },
        "outputId": "80876904-841e-4a83-b423-f5b101d38708"
      },
      "source": [
        "sentences[1]\n",
        "np.shape(sentences)"
      ],
      "execution_count": 11,
      "outputs": [
        {
          "output_type": "execute_result",
          "data": {
            "text/plain": [
              "(26709,)"
            ]
          },
          "metadata": {
            "tags": []
          },
          "execution_count": 11
        }
      ]
    },
    {
      "cell_type": "code",
      "metadata": {
        "id": "ADdgfi2BnQDb",
        "colab_type": "code",
        "colab": {}
      },
      "source": [
        "# Chia features tập train\n",
        "training_sentences = sentences[0:training_size]\n",
        "# FIXME: Chia features tập test\n",
        "test_sentences = sentences[training_size:]\n",
        "# FIXME: Chia labels tập train\n",
        "training_labels = labels[0:training_size]\n",
        "# FIXME: Chia labels tập test\n",
        "test_labels = labels[training_size:]\n"
      ],
      "execution_count": 12,
      "outputs": []
    },
    {
      "cell_type": "code",
      "metadata": {
        "id": "kpnqC2dXC8Pn",
        "colab_type": "code",
        "colab": {
          "base_uri": "https://localhost:8080/",
          "height": 51
        },
        "outputId": "e1a4ad2f-045b-4e6d-a7d3-e411073e1b0e"
      },
      "source": [
        "print(training_sentences[10])\n",
        "print(training_labels[10])"
      ],
      "execution_count": 15,
      "outputs": [
        {
          "output_type": "stream",
          "text": [
            "airline passengers tackle man who rushes cockpit in bomb threat\n",
            "0\n"
          ],
          "name": "stdout"
        }
      ]
    },
    {
      "cell_type": "code",
      "metadata": {
        "id": "e0RzuFn9DwnJ",
        "colab_type": "code",
        "colab": {
          "base_uri": "https://localhost:8080/",
          "height": 34
        },
        "outputId": "a67b7695-7174-496c-8fd9-847ad3b9277e"
      },
      "source": [
        "len(test_labels)"
      ],
      "execution_count": 16,
      "outputs": [
        {
          "output_type": "execute_result",
          "data": {
            "text/plain": [
              "6709"
            ]
          },
          "metadata": {
            "tags": []
          },
          "execution_count": 16
        }
      ]
    },
    {
      "cell_type": "code",
      "metadata": {
        "id": "QtcLlA3rnij6",
        "colab_type": "code",
        "colab": {}
      },
      "source": [
        "# FIXME: Tạo tokenizer\n",
        "tokenizer = Tokenizer(num_words=vocab_size, oov_token=oov_tok)\n",
        "# FIXME: Đưa từ vào tokenizer để tạo từ điển\n",
        "\n",
        "tokenizer.fit_on_texts(training_sentences)\n",
        "\n",
        "# FIXME: Biến các câu train thành sequences\n",
        "\n",
        "training_sequences = tokenizer.texts_to_sequences(training_sentences)\n",
        "\n",
        "# FIXME: Padding cho các train sequences(cac dong se lech nhau)\n",
        "\n",
        "training_padded = pad_sequences(training_sequences, maxlen=max_length, padding=padding_type, truncating=trunc_type)\n",
        "#neu cau ngan hơn so voi maxlen thi padding phia sau\n",
        "\n",
        "# FIXME: Biến các câu test thành sequences và padding tương ứng\n",
        "\n",
        "tests_sequences = tokenizer.texts_to_sequences(test_sentences)\n",
        "\n",
        "\n",
        "test_padded = pad_sequences(tests_sequences, maxlen=max_length, padding=padding_type, truncating=trunc_type)"
      ],
      "execution_count": 24,
      "outputs": []
    },
    {
      "cell_type": "code",
      "metadata": {
        "id": "LBfvYmClF19k",
        "colab_type": "code",
        "colab": {
          "base_uri": "https://localhost:8080/",
          "height": 34
        },
        "outputId": "dea9da34-ac70-4fb4-c0b3-dd99975e7def"
      },
      "source": [
        "training_padded.shape"
      ],
      "execution_count": 25,
      "outputs": [
        {
          "output_type": "execute_result",
          "data": {
            "text/plain": [
              "(20000, 100)"
            ]
          },
          "metadata": {
            "tags": []
          },
          "execution_count": 25
        }
      ]
    },
    {
      "cell_type": "code",
      "metadata": {
        "id": "Z1XlikMIF6DL",
        "colab_type": "code",
        "colab": {
          "base_uri": "https://localhost:8080/",
          "height": 34
        },
        "outputId": "22400a78-09d0-4d5b-9f46-389bd2cefe96"
      },
      "source": [
        "test_padded.shape"
      ],
      "execution_count": 26,
      "outputs": [
        {
          "output_type": "execute_result",
          "data": {
            "text/plain": [
              "(6709, 100)"
            ]
          },
          "metadata": {
            "tags": []
          },
          "execution_count": 26
        }
      ]
    },
    {
      "cell_type": "code",
      "metadata": {
        "id": "TtYaY_ZDHO27",
        "colab_type": "code",
        "colab": {}
      },
      "source": [
        "from tensorflow.keras.layers import GlobalAveragePooling1D"
      ],
      "execution_count": 32,
      "outputs": []
    },
    {
      "cell_type": "code",
      "metadata": {
        "id": "TUSDCqYQooDh",
        "colab_type": "code",
        "colab": {}
      },
      "source": [
        "# Xây dựng model\n",
        "\n",
        "# FIXME: Tạo model Sequential\n",
        "\n",
        "model = Sequential()\n",
        "\n",
        "# FIXME: Thêm một lớp Embedding\n",
        "\n",
        "model.add(Embedding(vocab_size, embedding_dim, input_length=max_length))\n",
        "\n",
        "model.add(GlobalAveragePooling1D())\n",
        "\n",
        "# FIXME: Thêm một lớp Dense, chú ý có activation\n",
        "\n",
        "model.add(Dense(24, activation='relu'))\n",
        "\n",
        "# FIXME: Thêm một lớp Dense cuối, chú ý có activation\n",
        "\n",
        "model.add(Dense(1, activation='sigmoid'))\n"
      ],
      "execution_count": 33,
      "outputs": []
    },
    {
      "cell_type": "code",
      "metadata": {
        "id": "l4Y_HkfXGd3u",
        "colab_type": "code",
        "colab": {
          "base_uri": "https://localhost:8080/",
          "height": 289
        },
        "outputId": "8fb5a37b-7e8b-46b0-93b6-dbe149112dc9"
      },
      "source": [
        "model.summary()"
      ],
      "execution_count": 34,
      "outputs": [
        {
          "output_type": "stream",
          "text": [
            "Model: \"sequential_1\"\n",
            "_________________________________________________________________\n",
            "Layer (type)                 Output Shape              Param #   \n",
            "=================================================================\n",
            "embedding_1 (Embedding)      (None, 100, 16)           160000    \n",
            "_________________________________________________________________\n",
            "global_average_pooling1d (Gl (None, 16)                0         \n",
            "_________________________________________________________________\n",
            "dense_2 (Dense)              (None, 24)                408       \n",
            "_________________________________________________________________\n",
            "dense_3 (Dense)              (None, 1)                 25        \n",
            "=================================================================\n",
            "Total params: 160,433\n",
            "Trainable params: 160,433\n",
            "Non-trainable params: 0\n",
            "_________________________________________________________________\n"
          ],
          "name": "stdout"
        }
      ]
    },
    {
      "cell_type": "code",
      "metadata": {
        "id": "E59eZek1pdAQ",
        "colab_type": "code",
        "colab": {}
      },
      "source": [
        "# FIXME: Compile Optimizer và Loss function\n",
        "\n",
        "model.compile(loss='binary_crossentropy', optimizer='adam', metrics='accuracy')"
      ],
      "execution_count": 35,
      "outputs": []
    },
    {
      "cell_type": "code",
      "metadata": {
        "id": "-EAXXELAG6MD",
        "colab_type": "code",
        "colab": {}
      },
      "source": [
        "num_epochs = 30"
      ],
      "execution_count": 36,
      "outputs": []
    },
    {
      "cell_type": "code",
      "metadata": {
        "id": "pOcPg5DRprqH",
        "colab_type": "code",
        "colab": {
          "base_uri": "https://localhost:8080/",
          "height": 1000
        },
        "outputId": "23f7e3c9-2ac9-485e-84b0-8256ad5b8125"
      },
      "source": [
        "# FIXME: Tiến hành training\n",
        "\n",
        "model.fit(training_padded, training_labels, epochs= num_epochs, validation_data=(test_padded, test_labels))"
      ],
      "execution_count": 37,
      "outputs": [
        {
          "output_type": "stream",
          "text": [
            "Epoch 1/30\n",
            "625/625 [==============================] - 4s 6ms/step - loss: 0.6679 - accuracy: 0.5836 - val_loss: 0.5905 - val_accuracy: 0.7180\n",
            "Epoch 2/30\n",
            "625/625 [==============================] - 4s 6ms/step - loss: 0.4368 - accuracy: 0.8292 - val_loss: 0.3862 - val_accuracy: 0.8387\n",
            "Epoch 3/30\n",
            "625/625 [==============================] - 4s 6ms/step - loss: 0.3099 - accuracy: 0.8784 - val_loss: 0.3563 - val_accuracy: 0.8472\n",
            "Epoch 4/30\n",
            "625/625 [==============================] - 4s 6ms/step - loss: 0.2585 - accuracy: 0.8982 - val_loss: 0.3658 - val_accuracy: 0.8359\n",
            "Epoch 5/30\n",
            "625/625 [==============================] - 4s 6ms/step - loss: 0.2228 - accuracy: 0.9133 - val_loss: 0.3475 - val_accuracy: 0.8524\n",
            "Epoch 6/30\n",
            "625/625 [==============================] - 4s 6ms/step - loss: 0.1946 - accuracy: 0.9255 - val_loss: 0.3543 - val_accuracy: 0.8539\n",
            "Epoch 7/30\n",
            "625/625 [==============================] - 4s 6ms/step - loss: 0.1740 - accuracy: 0.9330 - val_loss: 0.3681 - val_accuracy: 0.8524\n",
            "Epoch 8/30\n",
            "625/625 [==============================] - 4s 6ms/step - loss: 0.1543 - accuracy: 0.9431 - val_loss: 0.3909 - val_accuracy: 0.8486\n",
            "Epoch 9/30\n",
            "625/625 [==============================] - 4s 6ms/step - loss: 0.1385 - accuracy: 0.9508 - val_loss: 0.4042 - val_accuracy: 0.8495\n",
            "Epoch 10/30\n",
            "625/625 [==============================] - 4s 6ms/step - loss: 0.1259 - accuracy: 0.9556 - val_loss: 0.4447 - val_accuracy: 0.8392\n",
            "Epoch 11/30\n",
            "625/625 [==============================] - 4s 6ms/step - loss: 0.1136 - accuracy: 0.9606 - val_loss: 0.4502 - val_accuracy: 0.8456\n",
            "Epoch 12/30\n",
            "625/625 [==============================] - 4s 6ms/step - loss: 0.1032 - accuracy: 0.9638 - val_loss: 0.4714 - val_accuracy: 0.8472\n",
            "Epoch 13/30\n",
            "625/625 [==============================] - 4s 6ms/step - loss: 0.0954 - accuracy: 0.9684 - val_loss: 0.5045 - val_accuracy: 0.8408\n",
            "Epoch 14/30\n",
            "625/625 [==============================] - 4s 6ms/step - loss: 0.0875 - accuracy: 0.9711 - val_loss: 0.5271 - val_accuracy: 0.8416\n",
            "Epoch 15/30\n",
            "625/625 [==============================] - 4s 6ms/step - loss: 0.0806 - accuracy: 0.9735 - val_loss: 0.5583 - val_accuracy: 0.8369\n",
            "Epoch 16/30\n",
            "625/625 [==============================] - 4s 6ms/step - loss: 0.0724 - accuracy: 0.9780 - val_loss: 0.5881 - val_accuracy: 0.8377\n",
            "Epoch 17/30\n",
            "625/625 [==============================] - 4s 6ms/step - loss: 0.0665 - accuracy: 0.9789 - val_loss: 0.6279 - val_accuracy: 0.8287\n",
            "Epoch 18/30\n",
            "625/625 [==============================] - 4s 6ms/step - loss: 0.0618 - accuracy: 0.9803 - val_loss: 0.6538 - val_accuracy: 0.8295\n",
            "Epoch 19/30\n",
            "625/625 [==============================] - 4s 6ms/step - loss: 0.0561 - accuracy: 0.9818 - val_loss: 0.7493 - val_accuracy: 0.8250\n",
            "Epoch 20/30\n",
            "625/625 [==============================] - 4s 6ms/step - loss: 0.0516 - accuracy: 0.9844 - val_loss: 0.7407 - val_accuracy: 0.8278\n",
            "Epoch 21/30\n",
            "625/625 [==============================] - 4s 6ms/step - loss: 0.0476 - accuracy: 0.9852 - val_loss: 0.7862 - val_accuracy: 0.8246\n",
            "Epoch 22/30\n",
            "625/625 [==============================] - 4s 6ms/step - loss: 0.0421 - accuracy: 0.9871 - val_loss: 0.8022 - val_accuracy: 0.8205\n",
            "Epoch 23/30\n",
            "625/625 [==============================] - 4s 7ms/step - loss: 0.0396 - accuracy: 0.9890 - val_loss: 0.8425 - val_accuracy: 0.8219\n",
            "Epoch 24/30\n",
            "625/625 [==============================] - 4s 6ms/step - loss: 0.0370 - accuracy: 0.9886 - val_loss: 0.9072 - val_accuracy: 0.8185\n",
            "Epoch 25/30\n",
            "625/625 [==============================] - 4s 6ms/step - loss: 0.0346 - accuracy: 0.9900 - val_loss: 0.9323 - val_accuracy: 0.8177\n",
            "Epoch 26/30\n",
            "625/625 [==============================] - 4s 6ms/step - loss: 0.0301 - accuracy: 0.9916 - val_loss: 1.0378 - val_accuracy: 0.8149\n",
            "Epoch 27/30\n",
            "625/625 [==============================] - 4s 6ms/step - loss: 0.0285 - accuracy: 0.9916 - val_loss: 1.0017 - val_accuracy: 0.8176\n",
            "Epoch 28/30\n",
            "625/625 [==============================] - 4s 6ms/step - loss: 0.0274 - accuracy: 0.9919 - val_loss: 1.0337 - val_accuracy: 0.8152\n",
            "Epoch 29/30\n",
            "625/625 [==============================] - 4s 6ms/step - loss: 0.0243 - accuracy: 0.9931 - val_loss: 1.0693 - val_accuracy: 0.8146\n",
            "Epoch 30/30\n",
            "625/625 [==============================] - 4s 6ms/step - loss: 0.0236 - accuracy: 0.9934 - val_loss: 1.2525 - val_accuracy: 0.8143\n"
          ],
          "name": "stdout"
        },
        {
          "output_type": "execute_result",
          "data": {
            "text/plain": [
              "<tensorflow.python.keras.callbacks.History at 0x7fc7c71875f8>"
            ]
          },
          "metadata": {
            "tags": []
          },
          "execution_count": 37
        }
      ]
    },
    {
      "cell_type": "code",
      "metadata": {
        "id": "he-aXqEDpzrX",
        "colab_type": "code",
        "colab": {}
      },
      "source": [
        "# FIXME: Tiến hành dự đoán"
      ],
      "execution_count": null,
      "outputs": []
    },
    {
      "cell_type": "code",
      "metadata": {
        "id": "P_0xcZq1p1xf",
        "colab_type": "code",
        "colab": {
          "base_uri": "https://localhost:8080/",
          "height": 136
        },
        "outputId": "c8bda1cf-1f85-4c88-c214-e9093330bcf7"
      },
      "source": [
        "test_sen = [\"Everyone seems normal until you get to know them.\"]\n",
        "\n",
        "# FIXME: Chuyển câu thành Sequences\n",
        "test_sen_sequences = tokenizer.texts_to_sequences(test_sen)\n",
        "\n",
        "# FIXME: padding cho câu này\n",
        "padded_test_sen_sequences = pad_sequences(test_sequences, maxlen = max_length, padding = padding_type, truncating=trunc_type)\n",
        "\n",
        "# FIXME: Tiến hành dự đoán\n",
        "\n",
        "model.predict(padded_test_sen_sequences)"
      ],
      "execution_count": 39,
      "outputs": [
        {
          "output_type": "execute_result",
          "data": {
            "text/plain": [
              "array([[1.7652121e-01],\n",
              "       [1.0599424e-03],\n",
              "       [4.5928619e-08],\n",
              "       ...,\n",
              "       [4.9189600e-04],\n",
              "       [4.2487710e-04],\n",
              "       [2.9328444e-09]], dtype=float32)"
            ]
          },
          "metadata": {
            "tags": []
          },
          "execution_count": 39
        }
      ]
    },
    {
      "cell_type": "code",
      "metadata": {
        "id": "olRRlIaIIVqP",
        "colab_type": "code",
        "colab": {}
      },
      "source": [
        ""
      ],
      "execution_count": null,
      "outputs": []
    }
  ]
}