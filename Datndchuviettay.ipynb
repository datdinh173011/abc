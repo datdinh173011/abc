{
  "nbformat": 4,
  "nbformat_minor": 0,
  "metadata": {
    "colab": {
      "name": "Datndchuviettay.ipynb",
      "provenance": [],
      "mount_file_id": "1wGQo0VEHvzasltwG7otQSCFpMiUnWHqB",
      "authorship_tag": "ABX9TyOk1ncywpIiPXUa7bKz/LY1",
      "include_colab_link": true
    },
    "kernelspec": {
      "name": "python3",
      "display_name": "Python 3"
    }
  },
  "cells": [
    {
      "cell_type": "markdown",
      "metadata": {
        "id": "view-in-github",
        "colab_type": "text"
      },
      "source": [
        "<a href=\"https://colab.research.google.com/github/datdinhstore99/abc/blob/master/Datndchuviettay.ipynb\" target=\"_parent\"><img src=\"https://colab.research.google.com/assets/colab-badge.svg\" alt=\"Open In Colab\"/></a>"
      ]
    },
    {
      "cell_type": "code",
      "metadata": {
        "id": "CBz2vevFdsBQ",
        "colab_type": "code",
        "outputId": "f9250b04-c2f6-4e68-a9f0-8c979a993d84",
        "colab": {
          "base_uri": "https://localhost:8080/",
          "height": 122
        }
      },
      "source": [
        "from google.colab import drive\n",
        "drive.mount(\"/content/drive/My Drive/\")"
      ],
      "execution_count": 2,
      "outputs": [
        {
          "output_type": "stream",
          "text": [
            "Go to this URL in a browser: https://accounts.google.com/o/oauth2/auth?client_id=947318989803-6bn6qk8qdgf4n4g3pfee6491hc0brc4i.apps.googleusercontent.com&redirect_uri=urn%3aietf%3awg%3aoauth%3a2.0%3aoob&response_type=code&scope=email%20https%3a%2f%2fwww.googleapis.com%2fauth%2fdocs.test%20https%3a%2f%2fwww.googleapis.com%2fauth%2fdrive%20https%3a%2f%2fwww.googleapis.com%2fauth%2fdrive.photos.readonly%20https%3a%2f%2fwww.googleapis.com%2fauth%2fpeopleapi.readonly\n",
            "\n",
            "Enter your authorization code:\n",
            "··········\n",
            "Mounted at /content/drive/\n"
          ],
          "name": "stdout"
        }
      ]
    },
    {
      "cell_type": "code",
      "metadata": {
        "id": "3Y-nnmV-e5Tl",
        "colab_type": "code",
        "colab": {}
      },
      "source": [
        "\n",
        "link = \"https://storage.googleapis.com/kaggle-data-sets/9726/17999/bundle/archive.zip?GoogleAccessId=web-data@kaggle-161607.iam.gserviceaccount.com&Expires=1587635340&Signature=gAoYFpZ8aNT3akca76fcHv1%2Fs1xnSSVa12PetkiVxMrMhWJKW7iaAJI8KpA7samRUNY733MQhE1GMaRLqedsn1QNO4Jbhh8ecR963CtcBV6UNMORCDAa0HFfOdV54fxAXvglkbYj7SmcdQno9%2F2zAZxitfYXtRWKsZ%2FLAltqkJFWrE2Dgyc4MmV5CUz6alJ%2FPIHiFfUqgrzZvZrAMX0WQdvlpyN3iUijhCG1x5JljG6rVSv5cxOTbC3BiXSgEqnyabPBlcfQa0O9al%2BMAj5VY%2F0eqbVZ0mO0g0HkvAn%2B0taiLpZvyZEA2jhyXLrFs4PwdriG2krTNxJSA9H9ogZZDQ%3D%3D&response-content-disposition=attachment%3B+filename%3Daz-handwritten-alphabets-in-csv-format.zip\"\n"
      ],
      "execution_count": 0,
      "outputs": []
    },
    {
      "cell_type": "code",
      "metadata": {
        "id": "E_T_Utkyffym",
        "colab_type": "code",
        "colab": {
          "base_uri": "https://localhost:8080/",
          "height": 187
        },
        "outputId": "588cec20-3c29-413c-91c0-b654f0bbabb4"
      },
      "source": [
        "!pip install wget\n",
        "import wget\n",
        "wget.download(link)\n"
      ],
      "execution_count": 5,
      "outputs": [
        {
          "output_type": "stream",
          "text": [
            "Collecting wget\n",
            "  Downloading https://files.pythonhosted.org/packages/47/6a/62e288da7bcda82b935ff0c6cfe542970f04e29c756b0e147251b2fb251f/wget-3.2.zip\n",
            "Building wheels for collected packages: wget\n",
            "  Building wheel for wget (setup.py) ... \u001b[?25l\u001b[?25hdone\n",
            "  Created wheel for wget: filename=wget-3.2-cp36-none-any.whl size=9682 sha256=f3cee6aa374770b155468dff601d8636c2c0c1167ffb51f8d5c3d3d3e08b6dee\n",
            "  Stored in directory: /root/.cache/pip/wheels/40/15/30/7d8f7cea2902b4db79e3fea550d7d7b85ecb27ef992b618f3f\n",
            "Successfully built wget\n",
            "Installing collected packages: wget\n",
            "Successfully installed wget-3.2\n"
          ],
          "name": "stdout"
        },
        {
          "output_type": "execute_result",
          "data": {
            "text/plain": [
              "'az-handwritten-alphabets-in-csv-format.zip'"
            ]
          },
          "metadata": {
            "tags": []
          },
          "execution_count": 5
        }
      ]
    },
    {
      "cell_type": "code",
      "metadata": {
        "id": "ozSCPaqTfi4a",
        "colab_type": "code",
        "colab": {}
      },
      "source": [
        "data =\"./\" \n",
        "!unzip -q az-handwritten-alphabets-in-csv-format.zip -d $data"
      ],
      "execution_count": 0,
      "outputs": []
    },
    {
      "cell_type": "code",
      "metadata": {
        "id": "Qn9RjQlWhsdi",
        "colab_type": "code",
        "colab": {
          "base_uri": "https://localhost:8080/",
          "height": 34
        },
        "outputId": "730a98d8-4985-4e58-ad2f-f1a05efd7b39"
      },
      "source": [
        "import numpy as np\n",
        "import csv\n",
        "import matplotlib\n",
        "import matplotlib.pyplot as plt\n",
        "import matplotlib\n",
        "import cv2\n",
        "import tensorflow as tf\n",
        "from tensorflow.keras.models import Sequential\n",
        "from sklearn.utils import shuffle\n",
        "from tensorflow.keras.models import Model\n",
        "from tensorflow.keras.models import Sequential\n",
        "from tensorflow.keras.layers import BatchNormalization\n",
        "from tensorflow.keras.layers import AveragePooling2D\n",
        "from tensorflow.keras.layers import MaxPooling2D\n",
        "from tensorflow.keras.layers import Conv2D\n",
        "from tensorflow.keras.layers import Activation\n",
        "from tensorflow.keras.layers import Dropout\n",
        "from tensorflow.keras.layers import Flatten\n",
        "from tensorflow.keras.layers import Input\n",
        "from tensorflow.keras.layers import Dense\n",
        "from tensorflow.keras.layers import concatenate\n",
        "from tensorflow.keras.preprocessing.image import ImageDataGenerator\n",
        "from keras.utils import np_utils"
      ],
      "execution_count": 9,
      "outputs": [
        {
          "output_type": "stream",
          "text": [
            "Using TensorFlow backend.\n"
          ],
          "name": "stderr"
        }
      ]
    },
    {
      "cell_type": "code",
      "metadata": {
        "id": "Wq-DZm0JgRgP",
        "colab_type": "code",
        "colab": {}
      },
      "source": [
        "train_link = data + \"A_Z Handwritten Data.csv\"\n",
        "import pickle\n",
        "with open(train_link, mode=\"r\") as csv_file:\n",
        "    result = csv.reader(csv_file)\n",
        "    rows = []\n",
        "    \n",
        "    # đọc từng dòng của file và thêm vào list rows, mỗi phần tử của list là một dòng\n",
        "    for row in result:\n",
        "        rows.append(row)"
      ],
      "execution_count": 0,
      "outputs": []
    },
    {
      "cell_type": "code",
      "metadata": {
        "id": "4fTzEy26xVtA",
        "colab_type": "code",
        "outputId": "6bfd7873-8b61-4fc3-ece0-f6fc604a22cc",
        "colab": {
          "base_uri": "https://localhost:8080/",
          "height": 71
        }
      },
      "source": [
        "print(rows[1000])\n",
        "print(np.shape(rows[1000]))"
      ],
      "execution_count": 11,
      "outputs": [
        {
          "output_type": "stream",
          "text": [
            "['0', '0', '0', '0', '0', '0', '0', '0', '0', '0', '0', '0', '0', '0', '0', '0', '0', '0', '0', '0', '0', '0', '0', '0', '0', '0', '0', '0', '0', '0', '0', '0', '0', '0', '0', '0', '0', '0', '0', '0', '0', '0', '0', '0', '0', '0', '0', '0', '0', '0', '0', '0', '0', '0', '0', '0', '0', '0', '0', '0', '0', '0', '0', '0', '0', '0', '0', '0', '0', '0', '0', '0', '0', '0', '0', '0', '0', '0', '0', '0', '0', '0', '0', '0', '0', '0', '0', '0', '0', '0', '0', '0', '0', '0', '0', '0', '0', '0', '0', '0', '0', '0', '0', '0', '0', '0', '0', '0', '0', '0', '0', '0', '0', '0', '0', '0', '0', '0', '0', '0', '0', '0', '0', '0', '222', '184', '151', '64', '0', '0', '0', '0', '0', '0', '0', '0', '0', '0', '0', '0', '0', '0', '0', '0', '0', '0', '0', '0', '0', '0', '0', '0', '95', '255', '255', '107', '0', '0', '0', '0', '0', '0', '0', '0', '0', '0', '0', '0', '0', '0', '0', '0', '0', '0', '0', '0', '0', '0', '0', '0', '42', '255', '255', '210', '0', '0', '0', '0', '0', '0', '0', '0', '0', '0', '0', '0', '0', '0', '0', '0', '0', '0', '0', '0', '0', '0', '0', '0', '134', '255', '255', '180', '0', '0', '0', '0', '0', '0', '0', '0', '0', '0', '0', '0', '0', '0', '0', '0', '0', '0', '0', '0', '0', '0', '0', '10', '234', '255', '255', '118', '0', '0', '0', '0', '0', '0', '0', '0', '0', '0', '0', '0', '0', '0', '0', '0', '0', '0', '0', '0', '0', '0', '0', '94', '255', '255', '255', '243', '77', '0', '0', '0', '0', '0', '0', '0', '0', '0', '0', '0', '0', '0', '0', '0', '0', '0', '0', '0', '0', '0', '3', '191', '255', '251', '253', '255', '212', '13', '0', '0', '0', '0', '0', '0', '0', '0', '0', '0', '0', '0', '0', '0', '0', '0', '0', '0', '0', '0', '80', '255', '255', '118', '118', '255', '255', '123', '0', '0', '0', '0', '0', '0', '0', '0', '0', '0', '0', '0', '0', '0', '0', '0', '0', '0', '0', '0', '163', '255', '233', '13', '0', '165', '255', '253', '125', '0', '0', '0', '0', '0', '0', '0', '0', '0', '0', '0', '0', '0', '0', '0', '0', '0', '0', '57', '255', '255', '245', '156', '112', '213', '255', '255', '234', '156', '112', '129', '52', '0', '0', '0', '0', '0', '0', '0', '0', '0', '0', '0', '0', '74', '203', '250', '255', '255', '255', '255', '255', '255', '255', '255', '255', '255', '255', '255', '213', '0', '0', '0', '0', '0', '0', '0', '0', '0', '0', '0', '0', '124', '227', '255', '255', '240', '202', '137', '213', '109', '155', '255', '255', '217', '111', '82', '3', '0', '0', '0', '0', '0', '0', '0', '0', '0', '0', '0', '0', '0', '118', '255', '255', '124', '0', '0', '0', '0', '20', '197', '255', '255', '51', '0', '0', '0', '0', '0', '0', '0', '0', '0', '0', '0', '0', '0', '0', '38', '251', '255', '213', '25', '0', '0', '0', '0', '0', '18', '243', '255', '134', '0', '0', '0', '0', '0', '0', '0', '0', '0', '0', '0', '0', '0', '0', '73', '255', '255', '94', '0', '0', '0', '0', '0', '0', '0', '84', '255', '247', '58', '0', '0', '0', '0', '0', '0', '0', '0', '0', '0', '0', '0', '0', '51', '255', '248', '48', '0', '0', '0', '0', '0', '0', '0', '5', '207', '255', '177', '0', '0', '0', '0', '0', '0', '0', '0', '0', '0', '0', '0', '0', '113', '255', '242', '0', '0', '0', '0', '0', '0', '0', '0', '0', '201', '255', '188', '0', '0', '0', '0', '0', '0', '0', '0', '0', '0', '0', '0', '0', '56', '255', '237', '0', '0', '0', '0', '0', '0', '0', '0', '0', '149', '254', '191', '2', '0', '0', '0', '0', '0', '0', '0', '0', '0', '0', '0', '0', '15', '94', '49', '0', '0', '0', '0', '0', '0', '0', '0', '0', '0', '217', '255', '108', '0', '0', '0', '0', '0', '0', '0', '0', '0', '0', '0', '0', '0', '0', '0', '0', '0', '0', '0', '0', '0', '0', '0', '0', '0', '79', '195', '44', '0', '0', '0', '0', '0', '0', '0', '0', '0', '0', '0', '0', '0', '0', '0', '0', '0', '0', '0', '0', '0', '0', '0', '0', '0', '0', '0', '0', '0', '0', '0', '0', '0', '0', '0', '0', '0', '0', '0', '0', '0', '0', '0', '0', '0', '0', '0', '0', '0', '0', '0', '0', '0', '0', '0', '0', '0', '0', '0', '0', '0', '0', '0', '0', '0', '0', '0', '0', '0', '0', '0', '0', '0', '0', '0', '0', '0', '0', '0', '0', '0', '0', '0', '0', '0', '0', '0', '0', '0', '0', '0', '0', '0', '0', '0', '0', '0', '0', '0', '0', '0', '0', '0', '0', '0', '0', '0', '0', '0', '0', '0', '0', '0', '0', '0', '0', '0', '0']\n",
            "(785,)\n"
          ],
          "name": "stdout"
        }
      ]
    },
    {
      "cell_type": "code",
      "metadata": {
        "id": "GarUK1bsfoBa",
        "colab_type": "code",
        "colab": {
          "base_uri": "https://localhost:8080/",
          "height": 319
        },
        "outputId": "c7aaa547-0235-4376-bc6e-7aa23069a311"
      },
      "source": [
        "letter = rows[30000]\n",
        "x = np.array([int(j) for j in letter[1:]])\n",
        "x = x.reshape(28,28)\n",
        "\n",
        "print(letter)\n",
        "plt.imshow(x)"
      ],
      "execution_count": 12,
      "outputs": [
        {
          "output_type": "stream",
          "text": [
            "['2', '0', '0', '0', '0', '0', '0', '0', '0', '0', '0', '0', '0', '0', '0', '0', '0', '0', '0', '0', '0', '0', '0', '0', '0', '0', '0', '0', '0', '0', '0', '0', '0', '0', '0', '0', '0', '0', '0', '0', '0', '0', '0', '0', '0', '0', '0', '0', '0', '0', '0', '0', '0', '0', '0', '0', '0', '0', '0', '0', '0', '0', '0', '0', '0', '0', '0', '0', '0', '0', '0', '0', '0', '0', '0', '0', '0', '0', '0', '0', '0', '0', '0', '0', '0', '0', '0', '0', '0', '0', '0', '0', '0', '0', '0', '0', '0', '0', '0', '0', '0', '0', '0', '0', '0', '0', '0', '0', '0', '0', '0', '0', '0', '0', '0', '0', '0', '0', '0', '0', '0', '0', '0', '0', '0', '0', '60', '162', '255', '255', '255', '255', '255', '255', '224', '100', '0', '0', '0', '0', '0', '0', '0', '0', '0', '0', '0', '0', '0', '0', '0', '0', '46', '77', '233', '255', '255', '255', '236', '246', '255', '255', '255', '255', '0', '0', '0', '0', '0', '0', '0', '0', '0', '0', '0', '0', '0', '0', '0', '0', '255', '255', '255', '255', '255', '167', '65', '116', '255', '255', '255', '255', '0', '0', '0', '0', '0', '0', '0', '0', '0', '0', '0', '0', '0', '0', '19', '185', '255', '255', '255', '255', '150', '3', '0', '32', '218', '255', '236', '162', '0', '0', '0', '0', '0', '0', '0', '0', '0', '0', '0', '0', '0', '15', '175', '255', '255', '255', '255', '155', '12', '0', '0', '0', '37', '62', '49', '0', '0', '0', '0', '0', '0', '0', '0', '0', '0', '0', '0', '0', '83', '185', '255', '255', '255', '227', '116', '0', '0', '0', '0', '0', '0', '0', '0', '0', '0', '0', '0', '0', '0', '0', '0', '0', '0', '0', '0', '17', '187', '255', '255', '255', '221', '136', '0', '0', '0', '0', '0', '0', '0', '0', '0', '0', '0', '0', '0', '0', '0', '0', '0', '0', '0', '0', '12', '168', '255', '255', '255', '236', '42', '0', '0', '0', '0', '0', '0', '0', '0', '0', '0', '0', '0', '0', '0', '0', '0', '0', '0', '0', '0', '0', '102', '255', '255', '255', '229', '49', '0', '0', '0', '0', '0', '0', '0', '0', '0', '0', '0', '0', '0', '0', '0', '0', '0', '0', '0', '0', '0', '0', '241', '255', '255', '224', '49', '0', '0', '0', '0', '0', '0', '0', '0', '0', '0', '0', '0', '0', '0', '0', '0', '0', '0', '0', '0', '0', '0', '0', '255', '255', '255', '153', '0', '0', '0', '0', '0', '0', '0', '0', '0', '0', '0', '0', '0', '0', '0', '0', '0', '0', '0', '0', '0', '0', '0', '0', '255', '255', '255', '153', '0', '0', '0', '0', '0', '0', '0', '0', '0', '0', '0', '0', '0', '0', '0', '0', '0', '0', '0', '0', '0', '0', '0', '0', '255', '255', '255', '181', '14', '0', '0', '0', '0', '0', '0', '0', '0', '0', '0', '0', '0', '0', '0', '0', '0', '0', '0', '0', '0', '0', '0', '0', '153', '255', '255', '255', '51', '0', '0', '0', '0', '0', '0', '0', '0', '3', '15', '9', '0', '0', '0', '0', '0', '0', '0', '0', '0', '0', '0', '0', '102', '255', '255', '255', '121', '0', '0', '0', '0', '0', '0', '0', '46', '144', '255', '199', '23', '0', '0', '0', '0', '0', '0', '0', '0', '0', '0', '0', '15', '212', '255', '255', '247', '124', '62', '12', '0', '0', '12', '62', '232', '255', '255', '255', '181', '0', '0', '0', '0', '0', '0', '0', '0', '0', '0', '0', '0', '107', '255', '255', '255', '255', '255', '181', '162', '162', '181', '255', '255', '255', '255', '252', '105', '0', '0', '0', '0', '0', '0', '0', '0', '0', '0', '0', '0', '29', '212', '255', '255', '255', '255', '255', '255', '255', '255', '255', '255', '255', '190', '88', '0', '0', '0', '0', '0', '0', '0', '0', '0', '0', '0', '0', '0', '0', '121', '223', '255', '255', '255', '255', '255', '255', '255', '255', '255', '88', '19', '0', '0', '0', '0', '0', '0', '0', '0', '0', '0', '0', '0', '0', '0', '0', '0', '40', '131', '255', '255', '255', '255', '255', '255', '162', '100', '20', '0', '0', '0', '0', '0', '0', '0', '0', '0', '0', '0', '0', '0', '0', '0', '0', '0', '0', '0', '0', '0', '0', '0', '0', '0', '0', '0', '0', '0', '0', '0', '0', '0', '0', '0', '0', '0', '0', '0', '0', '0', '0', '0', '0', '0', '0', '0', '0', '0', '0', '0', '0', '0', '0', '0', '0', '0', '0', '0', '0', '0', '0', '0', '0', '0', '0', '0', '0', '0', '0', '0', '0', '0', '0', '0', '0', '0', '0', '0', '0', '0', '0', '0', '0', '0', '0', '0', '0', '0', '0', '0', '0', '0', '0', '0', '0', '0', '0', '0', '0', '0', '0', '0', '0', '0', '0', '0', '0', '0', '0', '0', '0', '0', '0', '0', '0', '0', '0', '0', '0', '0']\n"
          ],
          "name": "stdout"
        },
        {
          "output_type": "execute_result",
          "data": {
            "text/plain": [
              "<matplotlib.image.AxesImage at 0x7fef9606b048>"
            ]
          },
          "metadata": {
            "tags": []
          },
          "execution_count": 12
        },
        {
          "output_type": "display_data",
          "data": {
            "image/png": "[encoded data removed]",
            "text/plain": [
              "<Figure size 432x288 with 1 Axes>"
            ]
          },
          "metadata": {
            "tags": [],
            "needs_background": "light"
          }
        }
      ]
    },
    {
      "cell_type": "code",
      "metadata": {
        "id": "J9li7pWHhQ7u",
        "colab_type": "code",
        "colab": {}
      },
      "source": [
        "train_data = []\n",
        "train_label = []\n",
        "\n",
        "for letter in rows :\n",
        "  if letter[0] == '0' or (letter[0] == '1') or (letter[0] == '2') or (letter[0] == '3'):\n",
        "      x = np.array([int(j) for j in letter[1:]])\n",
        "      x = x.reshape(28,28)\n",
        "      train_data.append(x)\n",
        "      train_label.append(int(letter[0]))\n",
        "  else:\n",
        "      break"
      ],
      "execution_count": 0,
      "outputs": []
    },
    {
      "cell_type": "code",
      "metadata": {
        "id": "C5UQZw9Nhwfs",
        "colab_type": "code",
        "outputId": "f3bf7769-1411-4eff-db4f-1437ef4a4d6d",
        "colab": {
          "base_uri": "https://localhost:8080/",
          "height": 34
        }
      },
      "source": [
        "print(len(train_label))"
      ],
      "execution_count": 14,
      "outputs": [
        {
          "output_type": "stream",
          "text": [
            "56081\n"
          ],
          "name": "stdout"
        }
      ]
    },
    {
      "cell_type": "code",
      "metadata": {
        "id": "-NE2LCjJiJPo",
        "colab_type": "code",
        "colab": {}
      },
      "source": [
        "import random\n",
        "\n",
        "shuffle_order = list(range(56081))\n",
        "random.shuffle(shuffle_order)\n",
        "\n",
        "train_data = np.array(train_data)\n",
        "train_label = np.array(train_label)\n",
        "\n",
        "train_data = train_data[shuffle_order]\n",
        "train_label = train_label[shuffle_order]"
      ],
      "execution_count": 0,
      "outputs": []
    },
    {
      "cell_type": "code",
      "metadata": {
        "id": "tZqEPfdxiRAR",
        "colab_type": "code",
        "outputId": "cb8eea7a-a399-4f9e-9b94-9f64c60aba21",
        "colab": {
          "base_uri": "https://localhost:8080/",
          "height": 34
        }
      },
      "source": [
        "print(train_data.shape)\n",
        "train_x = train_data[:50000]\n",
        "train_y = train_label[:50000]\n",
        "\n",
        "val_x = train_data[50000:53000]\n",
        "val_y = train_label[50000:53000]\n",
        "\n",
        "test_x = train_data[53000:]\n",
        "test_y = train_label[53000:]"
      ],
      "execution_count": 16,
      "outputs": [
        {
          "output_type": "stream",
          "text": [
            "(56081, 28, 28)\n"
          ],
          "name": "stdout"
        }
      ]
    },
    {
      "cell_type": "code",
      "metadata": {
        "id": "p0u3tXkAi8ZN",
        "colab_type": "code",
        "colab": {}
      },
      "source": [
        "BATCH_SIZE = 32\n",
        "IMG_SIZE = 28\n",
        "N_CLASSES = 4\n",
        "LR = 0.001\n",
        "N_EPOCHS = 50"
      ],
      "execution_count": 0,
      "outputs": []
    },
    {
      "cell_type": "code",
      "metadata": {
        "id": "UYWuZKjflJ7R",
        "colab_type": "code",
        "colab": {}
      },
      "source": [
        "# reshape lại dữ liệu cho đúng kích thước mà keras yêu cầu\n",
        "train_x = train_x.reshape(-1,28,28,1)\n",
        "val_x = val_x.reshape(-1,28,28,1)\n",
        "test_x = test_x.reshape(-1,28,28,1)"
      ],
      "execution_count": 0,
      "outputs": []
    },
    {
      "cell_type": "code",
      "metadata": {
        "id": "5azO5L7jlYK1",
        "colab_type": "code",
        "colab": {
          "base_uri": "https://localhost:8080/",
          "height": 391
        },
        "outputId": "55e85be0-46fe-408e-d9b6-16b32497343c"
      },
      "source": [
        "model = Sequential()\n",
        "model.add(Conv2D(32, (3, 3),activation='sigmoid', input_shape=(28,28,1)))\n",
        "\n",
        "\n",
        "# Thêm Convolutional layer \n",
        "model.add(Conv2D(32, (3, 3), activation='sigmoid'))\n",
        "# Thêm Max pooling layer \n",
        "model.add(MaxPooling2D(pool_size=(2,2)))\n",
        "# Flatten layer chuyển từ tensor sang vector \n",
        "model.add(Flatten())\n",
        "# Thêm Fully Connected layer với 128 nodes và dùng hàm relu\n",
        "model.add(Dense(128, activation='relu'))\n",
        "# Output layer với 10 node và dùng softmax function để chuyển sang xác suất.\n",
        "model.add(Dense(10, activation='softmax'))\n",
        "model.add(Dense(1, activation='softmax'))\n",
        "# 6. Compile model, chỉ rõ hàm loss_function nào được sử dụng, phương thức # đùng để tối ưu hàm loss function. \n",
        "model.compile(loss='categorical_crossentropy', optimizer='adam', metrics=['accuracy'])\n",
        "model.summary()\n",
        "\n"
      ],
      "execution_count": 50,
      "outputs": [
        {
          "output_type": "stream",
          "text": [
            "Model: \"sequential_7\"\n",
            "_________________________________________________________________\n",
            "Layer (type)                 Output Shape              Param #   \n",
            "=================================================================\n",
            "conv2d_10 (Conv2D)           (None, 26, 26, 32)        320       \n",
            "_________________________________________________________________\n",
            "conv2d_11 (Conv2D)           (None, 24, 24, 32)        9248      \n",
            "_________________________________________________________________\n",
            "max_pooling2d_5 (MaxPooling2 (None, 12, 12, 32)        0         \n",
            "_________________________________________________________________\n",
            "flatten_5 (Flatten)          (None, 4608)              0         \n",
            "_________________________________________________________________\n",
            "dense_10 (Dense)             (None, 128)               589952    \n",
            "_________________________________________________________________\n",
            "dense_11 (Dense)             (None, 10)                1290      \n",
            "_________________________________________________________________\n",
            "dense_12 (Dense)             (None, 1)                 11        \n",
            "=================================================================\n",
            "Total params: 600,821\n",
            "Trainable params: 600,821\n",
            "Non-trainable params: 0\n",
            "_________________________________________________________________\n"
          ],
          "name": "stdout"
        }
      ]
    },
    {
      "cell_type": "code",
      "metadata": {
        "id": "MJSBTsn9lda_",
        "colab_type": "code",
        "outputId": "46c92764-3050-4df9-f329-6b2aa47e0d4a",
        "colab": {
          "base_uri": "https://localhost:8080/",
          "height": 425
        }
      },
      "source": [
        "print(train_label.shape)\n",
        "print(train_x.shape)\n",
        "print(val_x.shape)\n",
        "print(\"Start training\")\n",
        "\n",
        "H = model.fit(train_x,train_y, validation_data=(val_x, val_y),batch_size=32, epochs=10, verbose=1)\n",
        "\n"
      ],
      "execution_count": 51,
      "outputs": [
        {
          "output_type": "stream",
          "text": [
            "(56081,)\n",
            "(50000, 28, 28, 1)\n",
            "(3000, 28, 28, 1)\n",
            "Start training\n",
            "Epoch 1/10\n",
            "1563/1563 [==============================] - 90s 57ms/step - loss: 0.0000e+00 - accuracy: 0.1550 - val_loss: 0.0000e+00 - val_accuracy: 0.1497\n",
            "Epoch 2/10\n",
            "1563/1563 [==============================] - 89s 57ms/step - loss: 0.0000e+00 - accuracy: 0.1550 - val_loss: 0.0000e+00 - val_accuracy: 0.1497\n",
            "Epoch 3/10\n",
            "1563/1563 [==============================] - 90s 57ms/step - loss: 0.0000e+00 - accuracy: 0.1550 - val_loss: 0.0000e+00 - val_accuracy: 0.1497\n",
            "Epoch 4/10\n",
            "1563/1563 [==============================] - 89s 57ms/step - loss: 0.0000e+00 - accuracy: 0.1550 - val_loss: 0.0000e+00 - val_accuracy: 0.1497\n",
            "Epoch 5/10\n",
            "1563/1563 [==============================] - 89s 57ms/step - loss: 0.0000e+00 - accuracy: 0.1550 - val_loss: 0.0000e+00 - val_accuracy: 0.1497\n",
            "Epoch 6/10\n",
            "1563/1563 [==============================] - 89s 57ms/step - loss: 0.0000e+00 - accuracy: 0.1550 - val_loss: 0.0000e+00 - val_accuracy: 0.1497\n",
            "Epoch 7/10\n",
            "1563/1563 [==============================] - 89s 57ms/step - loss: 0.0000e+00 - accuracy: 0.1550 - val_loss: 0.0000e+00 - val_accuracy: 0.1497\n",
            "Epoch 8/10\n",
            "1563/1563 [==============================] - 89s 57ms/step - loss: 0.0000e+00 - accuracy: 0.1550 - val_loss: 0.0000e+00 - val_accuracy: 0.1497\n",
            "Epoch 9/10\n",
            "1563/1563 [==============================] - 89s 57ms/step - loss: 0.0000e+00 - accuracy: 0.1550 - val_loss: 0.0000e+00 - val_accuracy: 0.1497\n",
            "Epoch 10/10\n",
            "1563/1563 [==============================] - 89s 57ms/step - loss: 0.0000e+00 - accuracy: 0.1550 - val_loss: 0.0000e+00 - val_accuracy: 0.1497\n"
          ],
          "name": "stdout"
        }
      ]
    },
    {
      "cell_type": "code",
      "metadata": {
        "id": "wnOiEE6vnB6-",
        "colab_type": "code",
        "colab": {
          "base_uri": "https://localhost:8080/",
          "height": 34
        },
        "outputId": "2e7f182c-dd55-49c1-eb9a-7395c4e7f194"
      },
      "source": [
        "score = model.evaluate(test_x,test_y,verbose = 0)\n",
        "print(score)"
      ],
      "execution_count": 54,
      "outputs": [
        {
          "output_type": "stream",
          "text": [
            "[0.0, 0.15222330391407013]\n"
          ],
          "name": "stdout"
        }
      ]
    },
    {
      "cell_type": "code",
      "metadata": {
        "id": "2vpP8ghWK6yC",
        "colab_type": "code",
        "colab": {}
      },
      "source": [
        ""
      ],
      "execution_count": 0,
      "outputs": []
    },
    {
      "cell_type": "code",
      "metadata": {
        "id": "pQkz8BzeldDO",
        "colab_type": "code",
        "colab": {}
      },
      "source": [
        "#Xac định bài toán object detection\n",
        "\n",
        "img = cv2.imread(\"./anhtracnghiem.jpg\",0)\n",
        "blur = cv2.GaussianBlur(img,(5,5),0)\n",
        "thresh = cv2.adaptiveThreshold(blur,255,cv2.ADAPTIVE_THRESH_GAUSSIAN_C,cv2.THRESH_BINARY_INV,11,2)"
      ],
      "execution_count": 0,
      "outputs": []
    },
    {
      "cell_type": "code",
      "metadata": {
        "id": "Zk9A0ja2lc1q",
        "colab_type": "code",
        "colab": {
          "base_uri": "https://localhost:8080/",
          "height": 286
        },
        "outputId": "6e427f85-3f1e-461b-9de9-f6d44ed65800"
      },
      "source": [
        "horizal = thresh\n",
        "vertical = thresh\n",
        "\n",
        "scale_height = 20 #Scale này để càng cao thì số dòng dọc xác định sẽ càng nhiều\n",
        "scale_long = 15\n",
        "\n",
        "long = int(img.shape[1]/scale_long)\n",
        "height = int(img.shape[0]/scale_height)\n",
        "\n",
        "horizalStructure = cv2.getStructuringElement(cv2.MORPH_RECT, (long, 1))\n",
        "horizal = cv2.erode(horizal, horizalStructure, (-1, -1))\n",
        "horizal = cv2.dilate(horizal, horizalStructure, (-1, -1))\n",
        "\n",
        "verticalStructure = cv2.getStructuringElement(cv2.MORPH_RECT, (1, height))\n",
        "vertical = cv2.erode(vertical, verticalStructure, (-1, -1))\n",
        "vertical = cv2.dilate(vertical, verticalStructure, (-1, -1))\n",
        "\n",
        "mask = vertical + horizal\n",
        "plt.imshow(mask)\n",
        "\n"
      ],
      "execution_count": 45,
      "outputs": [
        {
          "output_type": "execute_result",
          "data": {
            "text/plain": [
              "<matplotlib.image.AxesImage at 0x7fef952ee128>"
            ]
          },
          "metadata": {
            "tags": []
          },
          "execution_count": 45
        },
        {
          "output_type": "display_data",
          "data": {
            "image/png": "[encoded data removed]",
            "text/plain": [
              "<Figure size 432x288 with 1 Axes>"
            ]
          },
          "metadata": {
            "tags": [],
            "needs_background": "light"
          }
        }
      ]
    },
    {
      "cell_type": "code",
      "metadata": {
        "id": "JyaWrhb5oHU3",
        "colab_type": "code",
        "colab": {}
      },
      "source": [
        " contours, hierarchy = cv2.findContours(mask,cv2.RETR_EXTERNAL,cv2.CHAIN_APPROX_SIMPLE)\n",
        "\n",
        "max = -1\n",
        "for cnt in contours:\n",
        "    x, y, w, h = cv2.boundingRect(cnt)\n",
        "    if cv2.contourArea(cnt) > max:\n",
        "        x_max, y_max, w_max, h_max = x, y, w, h\n",
        "        max = cv2.contourArea(cnt)"
      ],
      "execution_count": 0,
      "outputs": []
    },
    {
      "cell_type": "code",
      "metadata": {
        "id": "9VKti66U4r1W",
        "colab_type": "code",
        "colab": {}
      },
      "source": [
        "table = img[y_max:y_max+h_max, x_max:x_max+w_max]"
      ],
      "execution_count": 0,
      "outputs": []
    },
    {
      "cell_type": "code",
      "metadata": {
        "id": "z_2YUyGQ4u6R",
        "colab_type": "code",
        "colab": {}
      },
      "source": [
        "cropped_thresh_img = []\n",
        "cropped_origin_img = []\n",
        "countours_img = []\n",
        "\n",
        "NUM_ROWS = 19\n",
        "START_ROW = 1\n",
        "for i in range(START_ROW, NUM_ROWS):\n",
        "    thresh1 = thresh[y_max + round(i*h_max/NUM_ROWS):y_max + round((i+1)*h_max/NUM_ROWS), x_max + round(w_max/6):x_max +round(w_max/2)]\n",
        "    contours_thresh1, hierarchy_thresh1 = cv2.findContours(thresh1,cv2.RETR_EXTERNAL,cv2.CHAIN_APPROX_SIMPLE)\n",
        "    origin1 = img[y_max + round(i*h_max/NUM_ROWS):y_max + round((i+1)*h_max/NUM_ROWS), x_max + round(w_max/6):x_max +round(w_max/2)]\n",
        "\n",
        "    cropped_thresh_img.append(thresh1)\n",
        "    cropped_origin_img.append(origin1)\n",
        "    countours_img.append(contours_thresh1)\n",
        "\n",
        "for i in range(START_ROW, NUM_ROWS):\n",
        "    thresh1 = thresh[y_max + round(i*h_max/NUM_ROWS):y_max + round((i+1)*h_max/NUM_ROWS), x_max + round(2*w_max/3):x_max +round(w_max)]\n",
        "    contours_thresh1, hierarchy_thresh1 = cv2.findContours(thresh1,cv2.RETR_EXTERNAL,cv2.CHAIN_APPROX_SIMPLE)\n",
        "    origin1 = img[y_max + round(i*h_max/NUM_ROWS):y_max + round((i+1)*h_max/NUM_ROWS), x_max + round(2*w_max/3):x_max +round(w_max)]\n",
        "\n",
        "    cropped_thresh_img.append(thresh1)\n",
        "    cropped_origin_img.append(origin1)\n",
        "    countours_img.append(contours_thresh1)\n",
        "    "
      ],
      "execution_count": 0,
      "outputs": []
    },
    {
      "cell_type": "code",
      "metadata": {
        "id": "Utj1zBNY48Wb",
        "colab_type": "code",
        "colab": {}
      },
      "source": [
        "for i, countour_img in enumerate(countours_img):\n",
        "    for cnt in countour_img:\n",
        "        if cv2.contourArea(cnt) > 30:\n",
        "             x,y,w,h = cv2.boundingRect(cnt)\n",
        "             if x > cropped_origin_img[i].shape[1]*0.1 and x < cropped_origin_img[i].shape[1]*0.9:\n",
        "                 answer = cropped_origin_img[i][y:y+h, x:x+w]\n",
        "                 answer = cv2.threshold(answer, 160, 255, cv2.THRESH_BINARY_INV)[1]"
      ],
      "execution_count": 0,
      "outputs": []
    },
    {
      "cell_type": "code",
      "metadata": {
        "id": "9O8mlfL25IS6",
        "colab_type": "code",
        "colab": {}
      },
      "source": [
        ""
      ],
      "execution_count": 0,
      "outputs": []
    }
  ]
}