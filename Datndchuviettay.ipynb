{
  "nbformat": 4,
  "nbformat_minor": 0,
  "metadata": {
    "colab": {
      "name": "Datndchuviettay.ipynb",
      "provenance": [],
      "toc_visible": true,
      "mount_file_id": "1wGQo0VEHvzasltwG7otQSCFpMiUnWHqB",
      "authorship_tag": "ABX9TyN6alojydHPYfsL05PBtdcv",
      "include_colab_link": true
    },
    "kernelspec": {
      "name": "python3",
      "display_name": "Python 3"
    }
  },
  "cells": [
    {
      "cell_type": "markdown",
      "metadata": {
        "id": "view-in-github",
        "colab_type": "text"
      },
      "source": [
        "<a href=\"https://colab.research.google.com/github/datdinhstore99/abc/blob/master/Datndchuviettay.ipynb\" target=\"_parent\"><img src=\"https://colab.research.google.com/assets/colab-badge.svg\" alt=\"Open In Colab\"/></a>"
      ]
    },
    {
      "cell_type": "code",
      "metadata": {
        "id": "CBz2vevFdsBQ",
        "colab_type": "code",
        "outputId": "28f1c429-b094-4f69-86ca-a48d19894b5f",
        "colab": {
          "base_uri": "https://localhost:8080/",
          "height": 34
        }
      },
      "source": [
        "from google.colab import drive\n",
        "drive.mount(\"/content/drive\")"
      ],
      "execution_count": 1,
      "outputs": [
        {
          "output_type": "stream",
          "text": [
            "Drive already mounted at /content/drive; to attempt to forcibly remount, call drive.mount(\"/content/drive\", force_remount=True).\n"
          ],
          "name": "stdout"
        }
      ]
    },
    {
      "cell_type": "code",
      "metadata": {
        "id": "3Y-nnmV-e5Tl",
        "colab_type": "code",
        "colab": {}
      },
      "source": [
        "\n",
        "link = \"https://storage.googleapis.com/kaggle-data-sets/9726/17999/bundle/archive.zip?GoogleAccessId=web-data@kaggle-161607.iam.gserviceaccount.com&Expires=1588213997&Signature=nexEOiH6n5CsD4v8hcXb7kKaVhQngSehbsp7VDdk6egUEQke8wP4zPRM4uU%2BDylMyDgU91%2Bz%2FURv5iGOa%2Fy5rDeZiiRGtUS0Ftym2fkmHcID4DFTW9mBll7VE8GJUPtkHHGN4IC2oJUx81%2BM3uwY9ZFUUHAkT0KjL4xyK2t%2BWKG1DAfHL2EqR01fNcdfC8t5LTWf0cxHXkjKkR%2BuPlsMKvY3TKi%2B%2BOgDrdwP0apYM1359xcKgkf%2F9tPG%2F8UTGUGpCGiZvdpT%2Fnjbf7oLJ%2Ba7LdKWgY62hCVOy1Jy3PlrDa0%2B%2F3XEwFdSlzue4FNcb%2BA2kGojUclhPvEuSi0ntfVO%2FQ%3D%3D&response-content-disposition=attachment%3B+filename%3Daz-handwritten-alphabets-in-csv-format.zip\"\n"
      ],
      "execution_count": 0,
      "outputs": []
    },
    {
      "cell_type": "code",
      "metadata": {
        "id": "E_T_Utkyffym",
        "colab_type": "code",
        "outputId": "645d7591-c3b9-4ce6-b387-3ce6dc374a67",
        "colab": {
          "base_uri": "https://localhost:8080/",
          "height": 68
        }
      },
      "source": [
        "!pip install wge\n",
        "import wget\n",
        "wget.download(link)\n"
      ],
      "execution_count": 3,
      "outputs": [
        {
          "output_type": "stream",
          "text": [
            "\u001b[31mERROR: Could not find a version that satisfies the requirement wge (from versions: none)\u001b[0m\n",
            "\u001b[31mERROR: No matching distribution found for wge\u001b[0m\n"
          ],
          "name": "stdout"
        },
        {
          "output_type": "execute_result",
          "data": {
            "text/plain": [
              "'az-handwritten-alphabets-in-csv-format (2).zip'"
            ]
          },
          "metadata": {
            "tags": []
          },
          "execution_count": 3
        }
      ]
    },
    {
      "cell_type": "code",
      "metadata": {
        "id": "ozSCPaqTfi4a",
        "colab_type": "code",
        "colab": {
          "base_uri": "https://localhost:8080/",
          "height": 68
        },
        "outputId": "b39ac2b0-229f-4e05-95f6-b1a94c14df91"
      },
      "source": [
        "data =\"./\" \n",
        "!unzip -q az-handwritten-alphabets-in-csv-format.zip -d $data"
      ],
      "execution_count": 4,
      "outputs": [
        {
          "output_type": "stream",
          "text": [
            "replace ./A_Z Handwritten Data.csv? [y]es, [n]o, [A]ll, [N]one, [r]ename: y\n",
            "replace ./A_Z Handwritten Data/A_Z Handwritten Data.csv? [y]es, [n]o, [A]ll, [N]one, [r]ename: y\n",
            "y\n"
          ],
          "name": "stdout"
        }
      ]
    },
    {
      "cell_type": "code",
      "metadata": {
        "id": "Qn9RjQlWhsdi",
        "colab_type": "code",
        "outputId": "5ae1b438-e151-4924-ca31-d4c7a7245a99",
        "colab": {
          "base_uri": "https://localhost:8080/",
          "height": 34
        }
      },
      "source": [
        "import numpy as np\n",
        "import csv\n",
        "import matplotlib\n",
        "import matplotlib.pyplot as plt\n",
        "import matplotlib\n",
        "import cv2\n",
        "import tensorflow as tf\n",
        "from tensorflow.keras.models import Sequential\n",
        "\n",
        "from keras.utils import np_utils\n",
        "import keras\n",
        "from keras.models import Model\n",
        "from keras.models import Sequential,Model\n",
        "from keras.layers.normalization import BatchNormalization\n",
        "from keras.layers.convolutional import Conv2D\n",
        "from keras.layers.convolutional import MaxPooling2D\n",
        "from keras.layers.core import Activation\n",
        "from keras.layers.core import Flatten\n",
        "from keras.layers.core import Dropout\n",
        "from keras.layers.core import Dense"
      ],
      "execution_count": 5,
      "outputs": [
        {
          "output_type": "stream",
          "text": [
            "Using TensorFlow backend.\n"
          ],
          "name": "stderr"
        }
      ]
    },
    {
      "cell_type": "code",
      "metadata": {
        "id": "Wq-DZm0JgRgP",
        "colab_type": "code",
        "colab": {}
      },
      "source": [
        "train_link = data + \"A_Z Handwritten Data.csv\"\n",
        "import pickle\n",
        "with open(train_link, mode=\"r\") as csv_file:\n",
        "    result = csv.reader(csv_file)\n",
        "    rows = []\n",
        "    \n",
        "    # đọc từng dòng của file và thêm vào list rows, mỗi phần tử của list là một dòng\n",
        "    for row in result:\n",
        "        rows.append(row)"
      ],
      "execution_count": 0,
      "outputs": []
    },
    {
      "cell_type": "code",
      "metadata": {
        "id": "4fTzEy26xVtA",
        "colab_type": "code",
        "outputId": "e749f8a0-8970-4c0c-f676-be12db4b8e1c",
        "colab": {
          "base_uri": "https://localhost:8080/",
          "height": 71
        }
      },
      "source": [
        "print(rows[1000])\n",
        "print(np.shape(rows[1000]))"
      ],
      "execution_count": 7,
      "outputs": [
        {
          "output_type": "stream",
          "text": [
            "['0', '0', '0', '0', '0', '0', '0', '0', '0', '0', '0', '0', '0', '0', '0', '0', '0', '0', '0', '0', '0', '0', '0', '0', '0', '0', '0', '0', '0', '0', '0', '0', '0', '0', '0', '0', '0', '0', '0', '0', '0', '0', '0', '0', '0', '0', '0', '0', '0', '0', '0', '0', '0', '0', '0', '0', '0', '0', '0', '0', '0', '0', '0', '0', '0', '0', '0', '0', '0', '0', '0', '0', '0', '0', '0', '0', '0', '0', '0', '0', '0', '0', '0', '0', '0', '0', '0', '0', '0', '0', '0', '0', '0', '0', '0', '0', '0', '0', '0', '0', '0', '0', '0', '0', '0', '0', '0', '0', '0', '0', '0', '0', '0', '0', '0', '0', '0', '0', '0', '0', '0', '0', '0', '0', '222', '184', '151', '64', '0', '0', '0', '0', '0', '0', '0', '0', '0', '0', '0', '0', '0', '0', '0', '0', '0', '0', '0', '0', '0', '0', '0', '0', '95', '255', '255', '107', '0', '0', '0', '0', '0', '0', '0', '0', '0', '0', '0', '0', '0', '0', '0', '0', '0', '0', '0', '0', '0', '0', '0', '0', '42', '255', '255', '210', '0', '0', '0', '0', '0', '0', '0', '0', '0', '0', '0', '0', '0', '0', '0', '0', '0', '0', '0', '0', '0', '0', '0', '0', '134', '255', '255', '180', '0', '0', '0', '0', '0', '0', '0', '0', '0', '0', '0', '0', '0', '0', '0', '0', '0', '0', '0', '0', '0', '0', '0', '10', '234', '255', '255', '118', '0', '0', '0', '0', '0', '0', '0', '0', '0', '0', '0', '0', '0', '0', '0', '0', '0', '0', '0', '0', '0', '0', '0', '94', '255', '255', '255', '243', '77', '0', '0', '0', '0', '0', '0', '0', '0', '0', '0', '0', '0', '0', '0', '0', '0', '0', '0', '0', '0', '0', '3', '191', '255', '251', '253', '255', '212', '13', '0', '0', '0', '0', '0', '0', '0', '0', '0', '0', '0', '0', '0', '0', '0', '0', '0', '0', '0', '0', '80', '255', '255', '118', '118', '255', '255', '123', '0', '0', '0', '0', '0', '0', '0', '0', '0', '0', '0', '0', '0', '0', '0', '0', '0', '0', '0', '0', '163', '255', '233', '13', '0', '165', '255', '253', '125', '0', '0', '0', '0', '0', '0', '0', '0', '0', '0', '0', '0', '0', '0', '0', '0', '0', '0', '57', '255', '255', '245', '156', '112', '213', '255', '255', '234', '156', '112', '129', '52', '0', '0', '0', '0', '0', '0', '0', '0', '0', '0', '0', '0', '74', '203', '250', '255', '255', '255', '255', '255', '255', '255', '255', '255', '255', '255', '255', '213', '0', '0', '0', '0', '0', '0', '0', '0', '0', '0', '0', '0', '124', '227', '255', '255', '240', '202', '137', '213', '109', '155', '255', '255', '217', '111', '82', '3', '0', '0', '0', '0', '0', '0', '0', '0', '0', '0', '0', '0', '0', '118', '255', '255', '124', '0', '0', '0', '0', '20', '197', '255', '255', '51', '0', '0', '0', '0', '0', '0', '0', '0', '0', '0', '0', '0', '0', '0', '38', '251', '255', '213', '25', '0', '0', '0', '0', '0', '18', '243', '255', '134', '0', '0', '0', '0', '0', '0', '0', '0', '0', '0', '0', '0', '0', '0', '73', '255', '255', '94', '0', '0', '0', '0', '0', '0', '0', '84', '255', '247', '58', '0', '0', '0', '0', '0', '0', '0', '0', '0', '0', '0', '0', '0', '51', '255', '248', '48', '0', '0', '0', '0', '0', '0', '0', '5', '207', '255', '177', '0', '0', '0', '0', '0', '0', '0', '0', '0', '0', '0', '0', '0', '113', '255', '242', '0', '0', '0', '0', '0', '0', '0', '0', '0', '201', '255', '188', '0', '0', '0', '0', '0', '0', '0', '0', '0', '0', '0', '0', '0', '56', '255', '237', '0', '0', '0', '0', '0', '0', '0', '0', '0', '149', '254', '191', '2', '0', '0', '0', '0', '0', '0', '0', '0', '0', '0', '0', '0', '15', '94', '49', '0', '0', '0', '0', '0', '0', '0', '0', '0', '0', '217', '255', '108', '0', '0', '0', '0', '0', '0', '0', '0', '0', '0', '0', '0', '0', '0', '0', '0', '0', '0', '0', '0', '0', '0', '0', '0', '0', '79', '195', '44', '0', '0', '0', '0', '0', '0', '0', '0', '0', '0', '0', '0', '0', '0', '0', '0', '0', '0', '0', '0', '0', '0', '0', '0', '0', '0', '0', '0', '0', '0', '0', '0', '0', '0', '0', '0', '0', '0', '0', '0', '0', '0', '0', '0', '0', '0', '0', '0', '0', '0', '0', '0', '0', '0', '0', '0', '0', '0', '0', '0', '0', '0', '0', '0', '0', '0', '0', '0', '0', '0', '0', '0', '0', '0', '0', '0', '0', '0', '0', '0', '0', '0', '0', '0', '0', '0', '0', '0', '0', '0', '0', '0', '0', '0', '0', '0', '0', '0', '0', '0', '0', '0', '0', '0', '0', '0', '0', '0', '0', '0', '0', '0', '0', '0', '0', '0', '0', '0']\n",
            "(785,)\n"
          ],
          "name": "stdout"
        }
      ]
    },
    {
      "cell_type": "code",
      "metadata": {
        "id": "GarUK1bsfoBa",
        "colab_type": "code",
        "outputId": "6e596f53-10e4-4bb5-fe40-6322b71f2e6f",
        "colab": {
          "base_uri": "https://localhost:8080/",
          "height": 1000
        }
      },
      "source": [
        "letter = rows[30000]\n",
        "x = np.array([int(j) for j in letter[1:]])\n",
        "x = x.reshape(28,28)\n",
        "\n",
        "print(letter[10])\n",
        "plt.imshow(x)\n",
        "print(x)"
      ],
      "execution_count": 8,
      "outputs": [
        {
          "output_type": "stream",
          "text": [
            "0\n",
            "[[  0   0   0   0   0   0   0   0   0   0   0   0   0   0   0   0   0   0\n",
            "    0   0   0   0   0   0   0   0   0   0]\n",
            " [  0   0   0   0   0   0   0   0   0   0   0   0   0   0   0   0   0   0\n",
            "    0   0   0   0   0   0   0   0   0   0]\n",
            " [  0   0   0   0   0   0   0   0   0   0   0   0   0   0   0   0   0   0\n",
            "    0   0   0   0   0   0   0   0   0   0]\n",
            " [  0   0   0   0   0   0   0   0   0   0   0   0   0   0   0   0   0   0\n",
            "    0   0   0   0   0   0   0   0   0   0]\n",
            " [  0   0   0   0   0   0   0   0   0   0   0   0   0  60 162 255 255 255\n",
            "  255 255 255 224 100   0   0   0   0   0]\n",
            " [  0   0   0   0   0   0   0   0   0   0   0  46  77 233 255 255 255 236\n",
            "  246 255 255 255 255   0   0   0   0   0]\n",
            " [  0   0   0   0   0   0   0   0   0   0   0 255 255 255 255 255 167  65\n",
            "  116 255 255 255 255   0   0   0   0   0]\n",
            " [  0   0   0   0   0   0   0   0   0  19 185 255 255 255 255 150   3   0\n",
            "   32 218 255 236 162   0   0   0   0   0]\n",
            " [  0   0   0   0   0   0   0   0  15 175 255 255 255 255 155  12   0   0\n",
            "    0  37  62  49   0   0   0   0   0   0]\n",
            " [  0   0   0   0   0   0   0  83 185 255 255 255 227 116   0   0   0   0\n",
            "    0   0   0   0   0   0   0   0   0   0]\n",
            " [  0   0   0   0   0   0  17 187 255 255 255 221 136   0   0   0   0   0\n",
            "    0   0   0   0   0   0   0   0   0   0]\n",
            " [  0   0   0   0   0  12 168 255 255 255 236  42   0   0   0   0   0   0\n",
            "    0   0   0   0   0   0   0   0   0   0]\n",
            " [  0   0   0   0   0 102 255 255 255 229  49   0   0   0   0   0   0   0\n",
            "    0   0   0   0   0   0   0   0   0   0]\n",
            " [  0   0   0   0   0 241 255 255 224  49   0   0   0   0   0   0   0   0\n",
            "    0   0   0   0   0   0   0   0   0   0]\n",
            " [  0   0   0   0   0 255 255 255 153   0   0   0   0   0   0   0   0   0\n",
            "    0   0   0   0   0   0   0   0   0   0]\n",
            " [  0   0   0   0   0 255 255 255 153   0   0   0   0   0   0   0   0   0\n",
            "    0   0   0   0   0   0   0   0   0   0]\n",
            " [  0   0   0   0   0 255 255 255 181  14   0   0   0   0   0   0   0   0\n",
            "    0   0   0   0   0   0   0   0   0   0]\n",
            " [  0   0   0   0   0 153 255 255 255  51   0   0   0   0   0   0   0   0\n",
            "    3  15   9   0   0   0   0   0   0   0]\n",
            " [  0   0   0   0   0 102 255 255 255 121   0   0   0   0   0   0   0  46\n",
            "  144 255 199  23   0   0   0   0   0   0]\n",
            " [  0   0   0   0   0  15 212 255 255 247 124  62  12   0   0  12  62 232\n",
            "  255 255 255 181   0   0   0   0   0   0]\n",
            " [  0   0   0   0   0   0 107 255 255 255 255 255 181 162 162 181 255 255\n",
            "  255 255 252 105   0   0   0   0   0   0]\n",
            " [  0   0   0   0   0   0  29 212 255 255 255 255 255 255 255 255 255 255\n",
            "  255 190  88   0   0   0   0   0   0   0]\n",
            " [  0   0   0   0   0   0   0 121 223 255 255 255 255 255 255 255 255 255\n",
            "   88  19   0   0   0   0   0   0   0   0]\n",
            " [  0   0   0   0   0   0   0   0  40 131 255 255 255 255 255 255 162 100\n",
            "   20   0   0   0   0   0   0   0   0   0]\n",
            " [  0   0   0   0   0   0   0   0   0   0   0   0   0   0   0   0   0   0\n",
            "    0   0   0   0   0   0   0   0   0   0]\n",
            " [  0   0   0   0   0   0   0   0   0   0   0   0   0   0   0   0   0   0\n",
            "    0   0   0   0   0   0   0   0   0   0]\n",
            " [  0   0   0   0   0   0   0   0   0   0   0   0   0   0   0   0   0   0\n",
            "    0   0   0   0   0   0   0   0   0   0]\n",
            " [  0   0   0   0   0   0   0   0   0   0   0   0   0   0   0   0   0   0\n",
            "    0   0   0   0   0   0   0   0   0   0]]\n"
          ],
          "name": "stdout"
        },
        {
          "output_type": "display_data",
          "data": {
            "image/png": "[encoded data removed]",
            "text/plain": [
              "<Figure size 432x288 with 1 Axes>"
            ]
          },
          "metadata": {
            "tags": [],
            "needs_background": "light"
          }
        }
      ]
    },
    {
      "cell_type": "code",
      "metadata": {
        "id": "J9li7pWHhQ7u",
        "colab_type": "code",
        "colab": {}
      },
      "source": [
        "train_data = []\n",
        "train_label = []\n",
        "\n",
        "for letter in rows :\n",
        "  if letter[0] == '0' or (letter[0] == '1') or (letter[0] == '2') or (letter[0] == '3'):\n",
        "      x = np.array([int(j) for j in letter[1:]])\n",
        "      train_data.append(x)\n",
        "      train_label.append(int(letter[0]))\n",
        "  else:\n",
        "      break"
      ],
      "execution_count": 0,
      "outputs": []
    },
    {
      "cell_type": "code",
      "metadata": {
        "id": "C5UQZw9Nhwfs",
        "colab_type": "code",
        "colab": {}
      },
      "source": [
        "print(len(train_label))\n",
        "\n",
        "\n",
        "\n",
        "\n",
        "print(train_label)\n",
        "print(train_x[15])\n",
        "\n"
      ],
      "execution_count": 0,
      "outputs": []
    },
    {
      "cell_type": "code",
      "metadata": {
        "id": "-NE2LCjJiJPo",
        "colab_type": "code",
        "colab": {}
      },
      "source": [
        "import random\n",
        "\n",
        "shuffle_order = list(range(56081))\n",
        "random.shuffle(shuffle_order)\n",
        "\n",
        "train_data = np.array(train_data)\n",
        "train_label = np.array(train_label)\n",
        "\n",
        "train_data = train_data[shuffle_order]\n",
        "train_label = train_label[shuffle_order]"
      ],
      "execution_count": 0,
      "outputs": []
    },
    {
      "cell_type": "code",
      "metadata": {
        "id": "tZqEPfdxiRAR",
        "colab_type": "code",
        "outputId": "7b5bc620-fea8-49cf-b6b9-22317f76c1a9",
        "colab": {
          "base_uri": "https://localhost:8080/",
          "height": 34
        }
      },
      "source": [
        "print(train_data.shape)\n",
        "train_x = train_data[:50000]\n",
        "train_y = train_label[:50000]\n",
        "\n",
        "val_x = train_data[50000:53000]\n",
        "val_y = train_label[50000:53000]\n",
        "\n",
        "test_x = train_data[53000:]\n",
        "test_y = train_label[53000:]"
      ],
      "execution_count": 11,
      "outputs": [
        {
          "output_type": "stream",
          "text": [
            "(56081, 784)\n"
          ],
          "name": "stdout"
        }
      ]
    },
    {
      "cell_type": "code",
      "metadata": {
        "id": "p0u3tXkAi8ZN",
        "colab_type": "code",
        "colab": {
          "base_uri": "https://localhost:8080/",
          "height": 299
        },
        "outputId": "cfbd403f-138e-4971-86cd-8c81bc20c213"
      },
      "source": [
        "print(train_y[10])\n",
        "x = train_x[10].reshape(28,28)\n",
        "plt.imshow(x)\n"
      ],
      "execution_count": 12,
      "outputs": [
        {
          "output_type": "stream",
          "text": [
            "0\n"
          ],
          "name": "stdout"
        },
        {
          "output_type": "execute_result",
          "data": {
            "text/plain": [
              "<matplotlib.image.AxesImage at 0x7f99a28b94a8>"
            ]
          },
          "metadata": {
            "tags": []
          },
          "execution_count": 12
        },
        {
          "output_type": "display_data",
          "data": {
            "image/png": "[encoded data removed]",
            "text/plain": [
              "<Figure size 432x288 with 1 Axes>"
            ]
          },
          "metadata": {
            "tags": [],
            "needs_background": "light"
          }
        }
      ]
    },
    {
      "cell_type": "code",
      "metadata": {
        "id": "UYWuZKjflJ7R",
        "colab_type": "code",
        "colab": {}
      },
      "source": [
        "# reshape lại dữ liệu cho đúng kích thước mà keras yêu cầu\n",
        "train_x = train_x.reshape(-1,28,28,1)/255.0\n",
        "val_x = val_x.reshape(-1,28,28,1)/255.0\n",
        "test_x = test_x.reshape(-1,28,28,1)/255.0"
      ],
      "execution_count": 0,
      "outputs": []
    },
    {
      "cell_type": "code",
      "metadata": {
        "id": "v_aGz2ckOxNE",
        "colab_type": "code",
        "colab": {}
      },
      "source": [
        "train_y = keras.utils.to_categorical(train_y, 4)\n",
        "val_y = keras.utils.to_categorical(val_y,4)\n",
        "test_y = keras.utils.to_categorical(test_y, 4)"
      ],
      "execution_count": 0,
      "outputs": []
    },
    {
      "cell_type": "code",
      "metadata": {
        "id": "_lqUTiEirspt",
        "colab_type": "code",
        "colab": {
          "base_uri": "https://localhost:8080/",
          "height": 34
        },
        "outputId": "63400795-2e40-4f88-9711-89b463632147"
      },
      "source": [
        "train_x.shape"
      ],
      "execution_count": 15,
      "outputs": [
        {
          "output_type": "execute_result",
          "data": {
            "text/plain": [
              "(50000, 28, 28, 1)"
            ]
          },
          "metadata": {
            "tags": []
          },
          "execution_count": 15
        }
      ]
    },
    {
      "cell_type": "code",
      "metadata": {
        "id": "5azO5L7jlYK1",
        "colab_type": "code",
        "outputId": "081a5585-935f-484c-c088-af0402793629",
        "colab": {
          "base_uri": "https://localhost:8080/",
          "height": 425
        }
      },
      "source": [
        "model = Sequential()\n",
        "model.add(Conv2D(32, (3, 3),activation='relu', input_shape=(28,28,1)))\n",
        "model.add(Conv2D(64, (3, 3), activation='relu'))\n",
        "model.add(MaxPooling2D(pool_size=(2, 2)))\n",
        "model.add(Dropout(0.25))\n",
        "# Flatten layer chuyển từ tensor sang vector \n",
        "model.add(Flatten())\n",
        "# Thêm Fully Connected layer với 128 nodes và dùng hàm relu\n",
        "model.add(Dense(128, activation='relu'))\n",
        "# Output layer với 4 node và dùng softmax function để chuyển sang xác suất.\n",
        "model.add(Dropout(0.5))\n",
        "model.add(Dense(4, activation='softmax'))\n",
        "\n",
        "# 6. Compile model, chỉ rõ hàm loss_function nào được sử dụng, phương thức # đùng để tối ưu hàm loss function. \n",
        "model.compile(loss='categorical_crossentropy', optimizer='adam', metrics=['accuracy'])\n",
        "model.summary()\n",
        "\n"
      ],
      "execution_count": 16,
      "outputs": [
        {
          "output_type": "stream",
          "text": [
            "Model: \"sequential_1\"\n",
            "_________________________________________________________________\n",
            "Layer (type)                 Output Shape              Param #   \n",
            "=================================================================\n",
            "conv2d_1 (Conv2D)            (None, 26, 26, 32)        320       \n",
            "_________________________________________________________________\n",
            "conv2d_2 (Conv2D)            (None, 24, 24, 64)        18496     \n",
            "_________________________________________________________________\n",
            "max_pooling2d_1 (MaxPooling2 (None, 12, 12, 64)        0         \n",
            "_________________________________________________________________\n",
            "dropout_1 (Dropout)          (None, 12, 12, 64)        0         \n",
            "_________________________________________________________________\n",
            "flatten_1 (Flatten)          (None, 9216)              0         \n",
            "_________________________________________________________________\n",
            "dense_1 (Dense)              (None, 128)               1179776   \n",
            "_________________________________________________________________\n",
            "dropout_2 (Dropout)          (None, 128)               0         \n",
            "_________________________________________________________________\n",
            "dense_2 (Dense)              (None, 4)                 516       \n",
            "=================================================================\n",
            "Total params: 1,199,108\n",
            "Trainable params: 1,199,108\n",
            "Non-trainable params: 0\n",
            "_________________________________________________________________\n"
          ],
          "name": "stdout"
        }
      ]
    },
    {
      "cell_type": "code",
      "metadata": {
        "id": "meOz2EzkjBet",
        "colab_type": "code",
        "colab": {
          "base_uri": "https://localhost:8080/",
          "height": 411
        },
        "outputId": "af61330f-a29f-406f-b488-2b4faca1bc35"
      },
      "source": [
        "print(\"Start training\")\n",
        "\n",
        "H = model.fit(train_x,train_y, validation_data=(val_x, val_y),batch_size=32, epochs=10, verbose=1)"
      ],
      "execution_count": 17,
      "outputs": [
        {
          "output_type": "stream",
          "text": [
            "Start training\n",
            "Train on 50000 samples, validate on 3000 samples\n",
            "Epoch 1/10\n",
            "50000/50000 [==============================] - 138s 3ms/step - loss: 0.0546 - accuracy: 0.9821 - val_loss: 0.0119 - val_accuracy: 0.9960\n",
            "Epoch 2/10\n",
            "50000/50000 [==============================] - 135s 3ms/step - loss: 0.0185 - accuracy: 0.9950 - val_loss: 0.0092 - val_accuracy: 0.9973\n",
            "Epoch 3/10\n",
            "50000/50000 [==============================] - 136s 3ms/step - loss: 0.0127 - accuracy: 0.9964 - val_loss: 0.0057 - val_accuracy: 0.9983\n",
            "Epoch 4/10\n",
            "50000/50000 [==============================] - 137s 3ms/step - loss: 0.0096 - accuracy: 0.9969 - val_loss: 0.0132 - val_accuracy: 0.9967\n",
            "Epoch 5/10\n",
            "50000/50000 [==============================] - 136s 3ms/step - loss: 0.0090 - accuracy: 0.9974 - val_loss: 0.0050 - val_accuracy: 0.9980\n",
            "Epoch 6/10\n",
            "50000/50000 [==============================] - 136s 3ms/step - loss: 0.0060 - accuracy: 0.9980 - val_loss: 0.0076 - val_accuracy: 0.9980\n",
            "Epoch 7/10\n",
            "50000/50000 [==============================] - 136s 3ms/step - loss: 0.0048 - accuracy: 0.9984 - val_loss: 0.0033 - val_accuracy: 0.9983\n",
            "Epoch 8/10\n",
            "50000/50000 [==============================] - 136s 3ms/step - loss: 0.0056 - accuracy: 0.9982 - val_loss: 0.0059 - val_accuracy: 0.9987\n",
            "Epoch 9/10\n",
            "50000/50000 [==============================] - 136s 3ms/step - loss: 0.0051 - accuracy: 0.9985 - val_loss: 0.0072 - val_accuracy: 0.9990\n",
            "Epoch 10/10\n",
            "50000/50000 [==============================] - 136s 3ms/step - loss: 0.0032 - accuracy: 0.9990 - val_loss: 0.0073 - val_accuracy: 0.9990\n"
          ],
          "name": "stdout"
        }
      ]
    },
    {
      "cell_type": "code",
      "metadata": {
        "id": "wnOiEE6vnB6-",
        "colab_type": "code",
        "outputId": "f87f6835-50c5-4ad8-a0a3-43177839a8e9",
        "colab": {
          "base_uri": "https://localhost:8080/",
          "height": 34
        }
      },
      "source": [
        "score = model.evaluate(test_x,test_y,verbose = 0)\n",
        "print(score)"
      ],
      "execution_count": 18,
      "outputs": [
        {
          "output_type": "stream",
          "text": [
            "[0.0028316806865012817, 0.9993508458137512]\n"
          ],
          "name": "stdout"
        }
      ]
    },
    {
      "cell_type": "code",
      "metadata": {
        "id": "2vpP8ghWK6yC",
        "colab_type": "code",
        "colab": {
          "base_uri": "https://localhost:8080/",
          "height": 282
        },
        "outputId": "8d142add-49a1-44c0-8dcc-d0171935eb56"
      },
      "source": [
        "plt.imshow(test_x[0].reshape(28,28), cmap='gray')\n",
        "y_predict = model.predict(test_x[0].reshape(1,28,28,1))\n",
        "print('Giá trị dự đoán: ', np.argmax(y_predict))"
      ],
      "execution_count": 19,
      "outputs": [
        {
          "output_type": "stream",
          "text": [
            "Giá trị dự đoán:  3\n"
          ],
          "name": "stdout"
        },
        {
          "output_type": "display_data",
          "data": {
            "image/png": "[encoded data removed]",
            "text/plain": [
              "<Figure size 432x288 with 1 Axes>"
            ]
          },
          "metadata": {
            "tags": [],
            "needs_background": "light"
          }
        }
      ]
    },
    {
      "cell_type": "code",
      "metadata": {
        "id": "pQkz8BzeldDO",
        "colab_type": "code",
        "colab": {
          "base_uri": "https://localhost:8080/",
          "height": 252
        },
        "outputId": "e704619c-a2f4-4405-fcc0-84972c750aeb"
      },
      "source": [
        "#Xac định bài toán object detection\n",
        "\n",
        "img = cv2.imread(\"./anhtracnghiem.jpg\",0)\n",
        "plt.imshow(img, cmap = 'gray', interpolation = 'bicubic')\n",
        "plt.xticks([]), plt.yticks([])  # to hide tick values on X and Y axis\n",
        "plt.show()"
      ],
      "execution_count": 47,
      "outputs": [
        {
          "output_type": "display_data",
          "data": {
            "image/png": "[encoded data removed]",
            "text/plain": [
              "<Figure size 432x288 with 1 Axes>"
            ]
          },
          "metadata": {
            "tags": []
          }
        }
      ]
    },
    {
      "cell_type": "code",
      "metadata": {
        "id": "-RaIk3emw05e",
        "colab_type": "code",
        "colab": {}
      },
      "source": [
        "blur = cv2.GaussianBlur(img,(5,5),0)\n",
        "thresh = cv2.adaptiveThreshold(blur,255,cv2.ADAPTIVE_THRESH_GAUSSIAN_C,cv2.THRESH_BINARY_INV,11,2)"
      ],
      "execution_count": 0,
      "outputs": []
    },
    {
      "cell_type": "code",
      "metadata": {
        "id": "Zk9A0ja2lc1q",
        "colab_type": "code",
        "outputId": "2f9d0870-dc50-426f-c6a9-37108502082e",
        "colab": {
          "base_uri": "https://localhost:8080/",
          "height": 286
        }
      },
      "source": [
        "horizal = thresh\n",
        "vertical = thresh\n",
        "\n",
        "scale_height = 20 #Scale này để càng cao thì số dòng dọc xác định sẽ càng nhiều\n",
        "scale_long = 15\n",
        "\n",
        "long = int(img.shape[1]/scale_long)\n",
        "height = int(img.shape[0]/scale_height)\n",
        "\n",
        "horizalStructure = cv2.getStructuringElement(cv2.MORPH_RECT, (long, 1))\n",
        "horizal = cv2.erode(horizal, horizalStructure, (-1, -1))\n",
        "horizal = cv2.dilate(horizal, horizalStructure, (-1, -1))\n",
        "\n",
        "verticalStructure = cv2.getStructuringElement(cv2.MORPH_RECT, (1, height))\n",
        "vertical = cv2.erode(vertical, verticalStructure, (-1, -1))\n",
        "vertical = cv2.dilate(vertical, verticalStructure, (-1, -1))\n",
        "\n",
        "mask = vertical + horizal\n",
        "plt.imshow(mask)\n",
        "\n"
      ],
      "execution_count": 31,
      "outputs": [
        {
          "output_type": "execute_result",
          "data": {
            "text/plain": [
              "<matplotlib.image.AxesImage at 0x7f999b776e48>"
            ]
          },
          "metadata": {
            "tags": []
          },
          "execution_count": 31
        },
        {
          "output_type": "display_data",
          "data": {
            "image/png": "[encoded data removed]",
            "text/plain": [
              "<Figure size 432x288 with 1 Axes>"
            ]
          },
          "metadata": {
            "tags": [],
            "needs_background": "light"
          }
        }
      ]
    },
    {
      "cell_type": "code",
      "metadata": {
        "id": "JyaWrhb5oHU3",
        "colab_type": "code",
        "colab": {}
      },
      "source": [
        " #xác định ra vị trí của bảng thông qua bức hình trên\n",
        " #hàm findCountours sẽ giúp chúng ta lấy ra vị trí của các vật thể kín trong 1 bức ảnh\n",
        " #chúng ta lấy vật thể lớn nhất đó chính là bảng điền\n",
        " \n",
        " contours, hierarchy = cv2.findContours(mask,cv2.RETR_EXTERNAL,cv2.CHAIN_APPROX_SIMPLE)\n",
        "\n",
        "max = -1\n",
        "for cnt in contours:\n",
        "    x, y, w, h = cv2.boundingRect(cnt)\n",
        "    if cv2.contourArea(cnt) > max:\n",
        "        x_max, y_max, w_max, h_max = x, y, w, h\n",
        "        max = cv2.contourArea(cnt)"
      ],
      "execution_count": 0,
      "outputs": []
    },
    {
      "cell_type": "code",
      "metadata": {
        "id": "9VKti66U4r1W",
        "colab_type": "code",
        "colab": {}
      },
      "source": [
        "table = img[y_max:y_max+h_max, x_max:x_max+w_max]\n"
      ],
      "execution_count": 0,
      "outputs": []
    },
    {
      "cell_type": "code",
      "metadata": {
        "id": "z_2YUyGQ4u6R",
        "colab_type": "code",
        "colab": {}
      },
      "source": [
        "# chia bảng ra theo các tỷ lệ nhằm cắt được các ô đáp án một cách gần chính xác nhất\n",
        "# mỗi ô đáp án cần, chúng ta sẽ lại sử dụng hàm findCountours để xác định ra ký tự được viết ở ô đó\n",
        "\n",
        "cropped_thresh_img = []\n",
        "cropped_origin_img = []\n",
        "countours_img = []\n",
        "\n",
        "NUM_ROWS = 19\n",
        "START_ROW = 1\n",
        "for i in range(START_ROW, NUM_ROWS):\n",
        "    thresh1 = thresh[y_max + round(i*h_max/NUM_ROWS):y_max + round((i+1)*h_max/NUM_ROWS), x_max + round(w_max/6):x_max +round(w_max/2)]\n",
        "    contours_thresh1, hierarchy_thresh1 = cv2.findContours(thresh1,cv2.RETR_EXTERNAL,cv2.CHAIN_APPROX_SIMPLE)\n",
        "    origin1 = img[y_max + round(i*h_max/NUM_ROWS):y_max + round((i+1)*h_max/NUM_ROWS), x_max + round(w_max/6):x_max +round(w_max/2)]\n",
        "\n",
        "    cropped_thresh_img.append(thresh1)\n",
        "    cropped_origin_img.append(origin1)\n",
        "    countours_img.append(contours_thresh1)\n",
        "\n",
        "for i in range(START_ROW, NUM_ROWS):\n",
        "    thresh1 = thresh[y_max + round(i*h_max/NUM_ROWS):y_max + round((i+1)*h_max/NUM_ROWS), x_max + round(2*w_max/3):x_max +round(w_max)]\n",
        "    contours_thresh1, hierarchy_thresh1 = cv2.findContours(thresh1,cv2.RETR_EXTERNAL,cv2.CHAIN_APPROX_SIMPLE)\n",
        "    origin1 = img[y_max + round(i*h_max/NUM_ROWS):y_max + round((i+1)*h_max/NUM_ROWS), x_max + round(2*w_max/3):x_max +round(w_max)]\n",
        "\n",
        "    cropped_thresh_img.append(thresh1)\n",
        "    cropped_origin_img.append(origin1)\n",
        "    countours_img.append(contours_thresh1)\n",
        "    "
      ],
      "execution_count": 0,
      "outputs": []
    },
    {
      "cell_type": "code",
      "metadata": {
        "id": "Utj1zBNY48Wb",
        "colab_type": "code",
        "colab": {}
      },
      "source": [
        "#thêm một vài điều kiện nhằm đảm bảo tính chính xác của đầu ra ta thu được các đáp án\n",
        "for i, countour_img in enumerate(countours_img):\n",
        "    for cnt in countour_img:\n",
        "        if cv2.contourArea(cnt) > 30:\n",
        "             x,y,w,h = cv2.boundingRect(cnt)\n",
        "             if x > cropped_origin_img[i].shape[1]*0.1 and x < cropped_origin_img[i].shape[1]*0.9:\n",
        "                 answer = cropped_origin_img[i][y:y+h, x:x+w]\n",
        "                 answer = cv2.threshold(answer, 160, 255, cv2.THRESH_BINARY_INV)[1]\n"
      ],
      "execution_count": 0,
      "outputs": []
    },
    {
      "cell_type": "code",
      "metadata": {
        "id": "QS47BRXT2v2A",
        "colab_type": "code",
        "colab": {
          "base_uri": "https://localhost:8080/",
          "height": 391
        },
        "outputId": "0a384e91-e5d5-424d-e265-8794daa78899"
      },
      "source": [
        "print(answer)\n",
        "\n",
        "\n",
        "# plt.imshow(answer.reshape(28,28), cmap='gray')\n",
        "# y_predict = model.predict(test_x[0].reshape(1,28,28,1))\n",
        "# print('Giá trị dự đoán: ', np.argmax(y_predict))"
      ],
      "execution_count": 57,
      "outputs": [
        {
          "output_type": "stream",
          "text": [
            "[[  0   0   0   0 255 255 255   0   0   0   0   0   0]\n",
            " [  0   0   0 255 255 255 255 255   0   0   0   0   0]\n",
            " [  0   0 255 255 255 255 255 255 255   0   0   0   0]\n",
            " [  0   0 255 255 255   0 255 255 255   0   0   0   0]\n",
            " [  0 255 255 255   0 255   0 255 255   0   0   0   0]\n",
            " [  0 255 255 255   0 255   0 255 255   0   0   0   0]\n",
            " [255 255 255 255   0   0 255 255 255   0   0   0   0]\n",
            " [255 255 255 255 255 255 255 255   0   0   0   0   0]\n",
            " [255 255 255 255 255 255 255   0   0   0   0   0   0]\n",
            " [  0 255 255 255 255 255 255   0   0   0   0   0   0]\n",
            " [  0 255 255 255 255   0   0   0   0   0   0   0   0]\n",
            " [255 255 255 255 255   0   0   0   0   0   0   0   0]\n",
            " [255 255 255 255 255 255 255 255 255 255 255   0   0]\n",
            " [255 255 255 255 255 255 255 255 255 255 255 255   0]\n",
            " [255 255 255 255   0   0   0   0   0   0 255 255 255]\n",
            " [  0 255 255 255   0   0   0   0   0   0   0 255 255]\n",
            " [  0 255 255 255   0   0   0   0   0   0 255 255 255]\n",
            " [  0   0 255 255   0   0   0   0   0   0 255 255 255]\n",
            " [  0   0 255 255   0   0   0   0   0 255 255 255 255]\n",
            " [  0   0 255 255 255   0   0 255 255 255 255 255   0]\n",
            " [  0   0   0 255 255 255 255 255 255 255 255   0   0]\n",
            " [  0   0   0 255 255 255 255 255 255 255   0   0 255]]\n"
          ],
          "name": "stdout"
        }
      ]
    },
    {
      "cell_type": "code",
      "metadata": {
        "id": "9O8mlfL25IS6",
        "colab_type": "code",
        "colab": {
          "base_uri": "https://localhost:8080/",
          "height": 394
        },
        "outputId": "11a93eec-6d17-41a8-86aa-152d36e694ce"
      },
      "source": [
        "res = []\n",
        "res.append(np.argmax(model.predict(answer), axis=-1))\n",
        "letter = ['A', 'B', 'C', 'D']\n",
        "\n",
        "result = []\n",
        "for r in res:\n",
        "    if len(r) == 0:\n",
        "        result.append(\"X\")\n",
        "    elif len(r) > 1:\n",
        "        result.append(\"O\")\n",
        "    else:\n",
        "        result.append(letter[int(r[0])])\n",
        "\n",
        "\n",
        "print(result)\n"
      ],
      "execution_count": 37,
      "outputs": [
        {
          "output_type": "error",
          "ename": "ValueError",
          "evalue": "ignored",
          "traceback": [
            "\u001b[0;31m---------------------------------------------------------------------------\u001b[0m",
            "\u001b[0;31mValueError\u001b[0m                                Traceback (most recent call last)",
            "\u001b[0;32m<ipython-input-37-0837e433e083>\u001b[0m in \u001b[0;36m<module>\u001b[0;34m()\u001b[0m\n\u001b[1;32m      1\u001b[0m \u001b[0mres\u001b[0m \u001b[0;34m=\u001b[0m \u001b[0;34m[\u001b[0m\u001b[0;34m]\u001b[0m\u001b[0;34m\u001b[0m\u001b[0;34m\u001b[0m\u001b[0m\n\u001b[0;32m----> 2\u001b[0;31m \u001b[0mres\u001b[0m\u001b[0;34m.\u001b[0m\u001b[0mappend\u001b[0m\u001b[0;34m(\u001b[0m\u001b[0mnp\u001b[0m\u001b[0;34m.\u001b[0m\u001b[0margmax\u001b[0m\u001b[0;34m(\u001b[0m\u001b[0mmodel\u001b[0m\u001b[0;34m.\u001b[0m\u001b[0mpredict\u001b[0m\u001b[0;34m(\u001b[0m\u001b[0manswer\u001b[0m\u001b[0;34m)\u001b[0m\u001b[0;34m,\u001b[0m \u001b[0maxis\u001b[0m\u001b[0;34m=\u001b[0m\u001b[0;34m-\u001b[0m\u001b[0;36m1\u001b[0m\u001b[0;34m)\u001b[0m\u001b[0;34m)\u001b[0m\u001b[0;34m\u001b[0m\u001b[0;34m\u001b[0m\u001b[0m\n\u001b[0m\u001b[1;32m      3\u001b[0m \u001b[0mletter\u001b[0m \u001b[0;34m=\u001b[0m \u001b[0;34m[\u001b[0m\u001b[0;34m'A'\u001b[0m\u001b[0;34m,\u001b[0m \u001b[0;34m'B'\u001b[0m\u001b[0;34m,\u001b[0m \u001b[0;34m'C'\u001b[0m\u001b[0;34m,\u001b[0m \u001b[0;34m'D'\u001b[0m\u001b[0;34m]\u001b[0m\u001b[0;34m\u001b[0m\u001b[0;34m\u001b[0m\u001b[0m\n\u001b[1;32m      4\u001b[0m \u001b[0;34m\u001b[0m\u001b[0m\n\u001b[1;32m      5\u001b[0m \u001b[0mresult\u001b[0m \u001b[0;34m=\u001b[0m \u001b[0;34m[\u001b[0m\u001b[0;34m]\u001b[0m\u001b[0;34m\u001b[0m\u001b[0;34m\u001b[0m\u001b[0m\n",
            "\u001b[0;32m/usr/local/lib/python3.6/dist-packages/keras/engine/training.py\u001b[0m in \u001b[0;36mpredict\u001b[0;34m(self, x, batch_size, verbose, steps, callbacks, max_queue_size, workers, use_multiprocessing)\u001b[0m\n\u001b[1;32m   1439\u001b[0m \u001b[0;34m\u001b[0m\u001b[0m\n\u001b[1;32m   1440\u001b[0m         \u001b[0;31m# Case 2: Symbolic tensors or Numpy array-like.\u001b[0m\u001b[0;34m\u001b[0m\u001b[0;34m\u001b[0m\u001b[0;34m\u001b[0m\u001b[0m\n\u001b[0;32m-> 1441\u001b[0;31m         \u001b[0mx\u001b[0m\u001b[0;34m,\u001b[0m \u001b[0m_\u001b[0m\u001b[0;34m,\u001b[0m \u001b[0m_\u001b[0m \u001b[0;34m=\u001b[0m \u001b[0mself\u001b[0m\u001b[0;34m.\u001b[0m\u001b[0m_standardize_user_data\u001b[0m\u001b[0;34m(\u001b[0m\u001b[0mx\u001b[0m\u001b[0;34m)\u001b[0m\u001b[0;34m\u001b[0m\u001b[0;34m\u001b[0m\u001b[0m\n\u001b[0m\u001b[1;32m   1442\u001b[0m         \u001b[0;32mif\u001b[0m \u001b[0mself\u001b[0m\u001b[0;34m.\u001b[0m\u001b[0mstateful\u001b[0m\u001b[0;34m:\u001b[0m\u001b[0;34m\u001b[0m\u001b[0;34m\u001b[0m\u001b[0m\n\u001b[1;32m   1443\u001b[0m             \u001b[0;32mif\u001b[0m \u001b[0mx\u001b[0m\u001b[0;34m[\u001b[0m\u001b[0;36m0\u001b[0m\u001b[0;34m]\u001b[0m\u001b[0;34m.\u001b[0m\u001b[0mshape\u001b[0m\u001b[0;34m[\u001b[0m\u001b[0;36m0\u001b[0m\u001b[0;34m]\u001b[0m \u001b[0;34m>\u001b[0m \u001b[0mbatch_size\u001b[0m \u001b[0;32mand\u001b[0m \u001b[0mx\u001b[0m\u001b[0;34m[\u001b[0m\u001b[0;36m0\u001b[0m\u001b[0;34m]\u001b[0m\u001b[0;34m.\u001b[0m\u001b[0mshape\u001b[0m\u001b[0;34m[\u001b[0m\u001b[0;36m0\u001b[0m\u001b[0;34m]\u001b[0m \u001b[0;34m%\u001b[0m \u001b[0mbatch_size\u001b[0m \u001b[0;34m!=\u001b[0m \u001b[0;36m0\u001b[0m\u001b[0;34m:\u001b[0m\u001b[0;34m\u001b[0m\u001b[0;34m\u001b[0m\u001b[0m\n",
            "\u001b[0;32m/usr/local/lib/python3.6/dist-packages/keras/engine/training.py\u001b[0m in \u001b[0;36m_standardize_user_data\u001b[0;34m(self, x, y, sample_weight, class_weight, check_array_lengths, batch_size)\u001b[0m\n\u001b[1;32m    577\u001b[0m             \u001b[0mfeed_input_shapes\u001b[0m\u001b[0;34m,\u001b[0m\u001b[0;34m\u001b[0m\u001b[0;34m\u001b[0m\u001b[0m\n\u001b[1;32m    578\u001b[0m             \u001b[0mcheck_batch_axis\u001b[0m\u001b[0;34m=\u001b[0m\u001b[0;32mFalse\u001b[0m\u001b[0;34m,\u001b[0m  \u001b[0;31m# Don't enforce the batch size.\u001b[0m\u001b[0;34m\u001b[0m\u001b[0;34m\u001b[0m\u001b[0m\n\u001b[0;32m--> 579\u001b[0;31m             exception_prefix='input')\n\u001b[0m\u001b[1;32m    580\u001b[0m \u001b[0;34m\u001b[0m\u001b[0m\n\u001b[1;32m    581\u001b[0m         \u001b[0;32mif\u001b[0m \u001b[0my\u001b[0m \u001b[0;32mis\u001b[0m \u001b[0;32mnot\u001b[0m \u001b[0;32mNone\u001b[0m\u001b[0;34m:\u001b[0m\u001b[0;34m\u001b[0m\u001b[0;34m\u001b[0m\u001b[0m\n",
            "\u001b[0;32m/usr/local/lib/python3.6/dist-packages/keras/engine/training_utils.py\u001b[0m in \u001b[0;36mstandardize_input_data\u001b[0;34m(data, names, shapes, check_batch_axis, exception_prefix)\u001b[0m\n\u001b[1;32m    133\u001b[0m                         \u001b[0;34m': expected '\u001b[0m \u001b[0;34m+\u001b[0m \u001b[0mnames\u001b[0m\u001b[0;34m[\u001b[0m\u001b[0mi\u001b[0m\u001b[0;34m]\u001b[0m \u001b[0;34m+\u001b[0m \u001b[0;34m' to have '\u001b[0m \u001b[0;34m+\u001b[0m\u001b[0;34m\u001b[0m\u001b[0;34m\u001b[0m\u001b[0m\n\u001b[1;32m    134\u001b[0m                         \u001b[0mstr\u001b[0m\u001b[0;34m(\u001b[0m\u001b[0mlen\u001b[0m\u001b[0;34m(\u001b[0m\u001b[0mshape\u001b[0m\u001b[0;34m)\u001b[0m\u001b[0;34m)\u001b[0m \u001b[0;34m+\u001b[0m \u001b[0;34m' dimensions, but got array '\u001b[0m\u001b[0;34m\u001b[0m\u001b[0;34m\u001b[0m\u001b[0m\n\u001b[0;32m--> 135\u001b[0;31m                         'with shape ' + str(data_shape))\n\u001b[0m\u001b[1;32m    136\u001b[0m                 \u001b[0;32mif\u001b[0m \u001b[0;32mnot\u001b[0m \u001b[0mcheck_batch_axis\u001b[0m\u001b[0;34m:\u001b[0m\u001b[0;34m\u001b[0m\u001b[0;34m\u001b[0m\u001b[0m\n\u001b[1;32m    137\u001b[0m                     \u001b[0mdata_shape\u001b[0m \u001b[0;34m=\u001b[0m \u001b[0mdata_shape\u001b[0m\u001b[0;34m[\u001b[0m\u001b[0;36m1\u001b[0m\u001b[0;34m:\u001b[0m\u001b[0;34m]\u001b[0m\u001b[0;34m\u001b[0m\u001b[0;34m\u001b[0m\u001b[0m\n",
            "\u001b[0;31mValueError\u001b[0m: Error when checking input: expected conv2d_1_input to have 4 dimensions, but got array with shape (22, 13)"
          ]
        }
      ]
    },
    {
      "cell_type": "code",
      "metadata": {
        "id": "SLKlQDLfzQ0b",
        "colab_type": "code",
        "colab": {}
      },
      "source": [
        ""
      ],
      "execution_count": 0,
      "outputs": []
    }
  ]
}